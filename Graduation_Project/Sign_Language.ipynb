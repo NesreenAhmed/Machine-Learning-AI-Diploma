{
  "nbformat": 4,
  "nbformat_minor": 0,
  "metadata": {
    "colab": {
      "provenance": []
    },
    "kernelspec": {
      "name": "python3",
      "display_name": "Python 3"
    },
    "language_info": {
      "name": "python"
    },
    "accelerator": "GPU",
    "gpuClass": "standard"
  },
  "cells": [
    {
      "cell_type": "markdown",
      "source": [
        "# Setup\n",
        "### Importing the libraries"
      ],
      "metadata": {
        "id": "sSR0T0EzI_DC"
      }
    },
    {
      "cell_type": "code",
      "execution_count": 1,
      "metadata": {
        "id": "QtJMdV-r2apz"
      },
      "outputs": [],
      "source": [
        "import matplotlib.pyplot as plt\n",
        "import numpy as np\n",
        "from sklearn.metrics import confusion_matrix\n",
        "from functools import partial\n",
        "import pandas as pd\n",
        "import os"
      ]
    },
    {
      "cell_type": "markdown",
      "source": [
        "## Installing the Dataset"
      ],
      "metadata": {
        "id": "oNKbypLhJe43"
      }
    },
    {
      "cell_type": "markdown",
      "source": [
        "Install the kaggle python library\n",
        "\n"
      ],
      "metadata": {
        "id": "7PRypknpKNkL"
      }
    },
    {
      "cell_type": "code",
      "source": [
        "! pip install kaggle"
      ],
      "metadata": {
        "colab": {
          "base_uri": "https://localhost:8080/"
        },
        "id": "EGVvNZew2p5z",
        "outputId": "2c3d0d59-7780-4cad-919a-61d6d7e524a1"
      },
      "execution_count": 2,
      "outputs": [
        {
          "output_type": "stream",
          "name": "stdout",
          "text": [
            "Looking in indexes: https://pypi.org/simple, https://us-python.pkg.dev/colab-wheels/public/simple/\n",
            "Requirement already satisfied: kaggle in /usr/local/lib/python3.8/dist-packages (1.5.12)\n",
            "Requirement already satisfied: certifi in /usr/local/lib/python3.8/dist-packages (from kaggle) (2022.9.24)\n",
            "Requirement already satisfied: python-dateutil in /usr/local/lib/python3.8/dist-packages (from kaggle) (2.8.2)\n",
            "Requirement already satisfied: python-slugify in /usr/local/lib/python3.8/dist-packages (from kaggle) (7.0.0)\n",
            "Requirement already satisfied: urllib3 in /usr/local/lib/python3.8/dist-packages (from kaggle) (1.24.3)\n",
            "Requirement already satisfied: tqdm in /usr/local/lib/python3.8/dist-packages (from kaggle) (4.64.1)\n",
            "Requirement already satisfied: requests in /usr/local/lib/python3.8/dist-packages (from kaggle) (2.23.0)\n",
            "Requirement already satisfied: six>=1.10 in /usr/local/lib/python3.8/dist-packages (from kaggle) (1.15.0)\n",
            "Requirement already satisfied: text-unidecode>=1.3 in /usr/local/lib/python3.8/dist-packages (from python-slugify->kaggle) (1.3)\n",
            "Requirement already satisfied: idna<3,>=2.5 in /usr/local/lib/python3.8/dist-packages (from requests->kaggle) (2.10)\n",
            "Requirement already satisfied: chardet<4,>=3.0.2 in /usr/local/lib/python3.8/dist-packages (from requests->kaggle) (3.0.4)\n"
          ]
        }
      ]
    },
    {
      "cell_type": "markdown",
      "source": [
        "Make a directory for kaggle at the temporary instance location on Colab drive.\n",
        "\n",
        "Download your kaggle API key (.json file). You can do this by going to your kaggle account page and clicking Create new API token under the API section."
      ],
      "metadata": {
        "id": "h0a5woWiKTdu"
      }
    },
    {
      "cell_type": "code",
      "source": [
        "! mkdir ~/.kaggle"
      ],
      "metadata": {
        "id": "TLvFk_aY2uR1",
        "colab": {
          "base_uri": "https://localhost:8080/"
        },
        "outputId": "2fc0b226-4785-463d-ea3e-3e60f429f72a"
      },
      "execution_count": 3,
      "outputs": [
        {
          "output_type": "stream",
          "name": "stdout",
          "text": [
            "mkdir: cannot create directory ‘/root/.kaggle’: File exists\n"
          ]
        }
      ]
    },
    {
      "cell_type": "markdown",
      "source": [
        "API token"
      ],
      "metadata": {
        "id": "BU6oy6VXLOSV"
      }
    },
    {
      "cell_type": "code",
      "source": [
        "!echo '{\"username\":\"nesreenahmed\",\"key\":\"b0dec1a2569ec63bedccf41c2e4bb271\"}' > ~/.kaggle/kaggle.json"
      ],
      "metadata": {
        "id": "VG9eqhZB2zYJ"
      },
      "execution_count": 4,
      "outputs": []
    },
    {
      "cell_type": "markdown",
      "source": [
        "Change the file permissions to read/write to the owner only"
      ],
      "metadata": {
        "id": "esBCCLuRLWDZ"
      }
    },
    {
      "cell_type": "code",
      "source": [
        "! chmod 600 ~/.kaggle/kaggle.json"
      ],
      "metadata": {
        "id": "Ev8MjBTl3D01"
      },
      "execution_count": 5,
      "outputs": []
    },
    {
      "cell_type": "markdown",
      "source": [
        "Download dataset"
      ],
      "metadata": {
        "id": "PB2unW_mLbGF"
      }
    },
    {
      "cell_type": "code",
      "source": [
        "! kaggle datasets download datamunge/sign-language-mnist"
      ],
      "metadata": {
        "colab": {
          "base_uri": "https://localhost:8080/"
        },
        "id": "qGeXON7c4msJ",
        "outputId": "8c311470-9aa7-4af2-f01b-7ad1ec1920c5"
      },
      "execution_count": 6,
      "outputs": [
        {
          "output_type": "stream",
          "name": "stdout",
          "text": [
            "Downloading sign-language-mnist.zip to /content\n",
            " 99% 62.0M/62.6M [00:03<00:00, 25.4MB/s]\n",
            "100% 62.6M/62.6M [00:03<00:00, 17.0MB/s]\n"
          ]
        }
      ]
    },
    {
      "cell_type": "markdown",
      "source": [
        "Unzip the files "
      ],
      "metadata": {
        "id": "mZJzNOfLLhoc"
      }
    },
    {
      "cell_type": "code",
      "source": [
        "import zipfile"
      ],
      "metadata": {
        "id": "M2JKhF2Z4vZJ"
      },
      "execution_count": 7,
      "outputs": []
    },
    {
      "cell_type": "code",
      "source": [
        "! unzip sign-language-mnist.zip"
      ],
      "metadata": {
        "colab": {
          "base_uri": "https://localhost:8080/"
        },
        "id": "vuYT1v6-4_lX",
        "outputId": "ce21ef08-0620-484d-8c50-fb8977dc0136"
      },
      "execution_count": 8,
      "outputs": [
        {
          "output_type": "stream",
          "name": "stdout",
          "text": [
            "Archive:  sign-language-mnist.zip\n",
            "  inflating: amer_sign2.png          \n",
            "  inflating: amer_sign3.png          \n",
            "  inflating: american_sign_language.PNG  \n",
            "  inflating: sign_mnist_test.csv     \n",
            "  inflating: sign_mnist_test/sign_mnist_test.csv  \n",
            "  inflating: sign_mnist_train.csv    \n",
            "  inflating: sign_mnist_train/sign_mnist_train.csv  \n"
          ]
        }
      ]
    },
    {
      "cell_type": "markdown",
      "source": [
        "Reading the csv files"
      ],
      "metadata": {
        "id": "WgEk6-20LvhE"
      }
    },
    {
      "cell_type": "code",
      "source": [
        "train_df=pd.read_csv('/content/sign_mnist_train.csv')"
      ],
      "metadata": {
        "id": "mIl87P4F5FsG"
      },
      "execution_count": 9,
      "outputs": []
    },
    {
      "cell_type": "code",
      "source": [
        "test_df=pd.read_csv('/content/sign_mnist_test.csv')"
      ],
      "metadata": {
        "id": "SMWCpNR85aOz"
      },
      "execution_count": 10,
      "outputs": []
    },
    {
      "cell_type": "markdown",
      "source": [
        "## Take a Quick Look at the Data Structure"
      ],
      "metadata": {
        "id": "0IRrVIhsMGbQ"
      }
    },
    {
      "cell_type": "code",
      "source": [
        "train_df.head()"
      ],
      "metadata": {
        "id": "k5tIIWoa5fDn",
        "colab": {
          "base_uri": "https://localhost:8080/",
          "height": 235
        },
        "outputId": "c37cc602-96a0-4687-eeb4-b1311d85ccc0"
      },
      "execution_count": 11,
      "outputs": [
        {
          "output_type": "execute_result",
          "data": {
            "text/plain": [
              "   label  pixel1  pixel2  pixel3  pixel4  pixel5  pixel6  pixel7  pixel8  \\\n",
              "0      3     107     118     127     134     139     143     146     150   \n",
              "1      6     155     157     156     156     156     157     156     158   \n",
              "2      2     187     188     188     187     187     186     187     188   \n",
              "3      2     211     211     212     212     211     210     211     210   \n",
              "4     13     164     167     170     172     176     179     180     184   \n",
              "\n",
              "   pixel9  ...  pixel775  pixel776  pixel777  pixel778  pixel779  pixel780  \\\n",
              "0     153  ...       207       207       207       207       206       206   \n",
              "1     158  ...        69       149       128        87        94       163   \n",
              "2     187  ...       202       201       200       199       198       199   \n",
              "3     210  ...       235       234       233       231       230       226   \n",
              "4     185  ...        92       105       105       108       133       163   \n",
              "\n",
              "   pixel781  pixel782  pixel783  pixel784  \n",
              "0       206       204       203       202  \n",
              "1       175       103       135       149  \n",
              "2       198       195       194       195  \n",
              "3       225       222       229       163  \n",
              "4       157       163       164       179  \n",
              "\n",
              "[5 rows x 785 columns]"
            ],
            "text/html": [
              "\n",
              "  <div id=\"df-659415e0-aa3b-4164-8ed4-e42d3f79c46d\">\n",
              "    <div class=\"colab-df-container\">\n",
              "      <div>\n",
              "<style scoped>\n",
              "    .dataframe tbody tr th:only-of-type {\n",
              "        vertical-align: middle;\n",
              "    }\n",
              "\n",
              "    .dataframe tbody tr th {\n",
              "        vertical-align: top;\n",
              "    }\n",
              "\n",
              "    .dataframe thead th {\n",
              "        text-align: right;\n",
              "    }\n",
              "</style>\n",
              "<table border=\"1\" class=\"dataframe\">\n",
              "  <thead>\n",
              "    <tr style=\"text-align: right;\">\n",
              "      <th></th>\n",
              "      <th>label</th>\n",
              "      <th>pixel1</th>\n",
              "      <th>pixel2</th>\n",
              "      <th>pixel3</th>\n",
              "      <th>pixel4</th>\n",
              "      <th>pixel5</th>\n",
              "      <th>pixel6</th>\n",
              "      <th>pixel7</th>\n",
              "      <th>pixel8</th>\n",
              "      <th>pixel9</th>\n",
              "      <th>...</th>\n",
              "      <th>pixel775</th>\n",
              "      <th>pixel776</th>\n",
              "      <th>pixel777</th>\n",
              "      <th>pixel778</th>\n",
              "      <th>pixel779</th>\n",
              "      <th>pixel780</th>\n",
              "      <th>pixel781</th>\n",
              "      <th>pixel782</th>\n",
              "      <th>pixel783</th>\n",
              "      <th>pixel784</th>\n",
              "    </tr>\n",
              "  </thead>\n",
              "  <tbody>\n",
              "    <tr>\n",
              "      <th>0</th>\n",
              "      <td>3</td>\n",
              "      <td>107</td>\n",
              "      <td>118</td>\n",
              "      <td>127</td>\n",
              "      <td>134</td>\n",
              "      <td>139</td>\n",
              "      <td>143</td>\n",
              "      <td>146</td>\n",
              "      <td>150</td>\n",
              "      <td>153</td>\n",
              "      <td>...</td>\n",
              "      <td>207</td>\n",
              "      <td>207</td>\n",
              "      <td>207</td>\n",
              "      <td>207</td>\n",
              "      <td>206</td>\n",
              "      <td>206</td>\n",
              "      <td>206</td>\n",
              "      <td>204</td>\n",
              "      <td>203</td>\n",
              "      <td>202</td>\n",
              "    </tr>\n",
              "    <tr>\n",
              "      <th>1</th>\n",
              "      <td>6</td>\n",
              "      <td>155</td>\n",
              "      <td>157</td>\n",
              "      <td>156</td>\n",
              "      <td>156</td>\n",
              "      <td>156</td>\n",
              "      <td>157</td>\n",
              "      <td>156</td>\n",
              "      <td>158</td>\n",
              "      <td>158</td>\n",
              "      <td>...</td>\n",
              "      <td>69</td>\n",
              "      <td>149</td>\n",
              "      <td>128</td>\n",
              "      <td>87</td>\n",
              "      <td>94</td>\n",
              "      <td>163</td>\n",
              "      <td>175</td>\n",
              "      <td>103</td>\n",
              "      <td>135</td>\n",
              "      <td>149</td>\n",
              "    </tr>\n",
              "    <tr>\n",
              "      <th>2</th>\n",
              "      <td>2</td>\n",
              "      <td>187</td>\n",
              "      <td>188</td>\n",
              "      <td>188</td>\n",
              "      <td>187</td>\n",
              "      <td>187</td>\n",
              "      <td>186</td>\n",
              "      <td>187</td>\n",
              "      <td>188</td>\n",
              "      <td>187</td>\n",
              "      <td>...</td>\n",
              "      <td>202</td>\n",
              "      <td>201</td>\n",
              "      <td>200</td>\n",
              "      <td>199</td>\n",
              "      <td>198</td>\n",
              "      <td>199</td>\n",
              "      <td>198</td>\n",
              "      <td>195</td>\n",
              "      <td>194</td>\n",
              "      <td>195</td>\n",
              "    </tr>\n",
              "    <tr>\n",
              "      <th>3</th>\n",
              "      <td>2</td>\n",
              "      <td>211</td>\n",
              "      <td>211</td>\n",
              "      <td>212</td>\n",
              "      <td>212</td>\n",
              "      <td>211</td>\n",
              "      <td>210</td>\n",
              "      <td>211</td>\n",
              "      <td>210</td>\n",
              "      <td>210</td>\n",
              "      <td>...</td>\n",
              "      <td>235</td>\n",
              "      <td>234</td>\n",
              "      <td>233</td>\n",
              "      <td>231</td>\n",
              "      <td>230</td>\n",
              "      <td>226</td>\n",
              "      <td>225</td>\n",
              "      <td>222</td>\n",
              "      <td>229</td>\n",
              "      <td>163</td>\n",
              "    </tr>\n",
              "    <tr>\n",
              "      <th>4</th>\n",
              "      <td>13</td>\n",
              "      <td>164</td>\n",
              "      <td>167</td>\n",
              "      <td>170</td>\n",
              "      <td>172</td>\n",
              "      <td>176</td>\n",
              "      <td>179</td>\n",
              "      <td>180</td>\n",
              "      <td>184</td>\n",
              "      <td>185</td>\n",
              "      <td>...</td>\n",
              "      <td>92</td>\n",
              "      <td>105</td>\n",
              "      <td>105</td>\n",
              "      <td>108</td>\n",
              "      <td>133</td>\n",
              "      <td>163</td>\n",
              "      <td>157</td>\n",
              "      <td>163</td>\n",
              "      <td>164</td>\n",
              "      <td>179</td>\n",
              "    </tr>\n",
              "  </tbody>\n",
              "</table>\n",
              "<p>5 rows × 785 columns</p>\n",
              "</div>\n",
              "      <button class=\"colab-df-convert\" onclick=\"convertToInteractive('df-659415e0-aa3b-4164-8ed4-e42d3f79c46d')\"\n",
              "              title=\"Convert this dataframe to an interactive table.\"\n",
              "              style=\"display:none;\">\n",
              "        \n",
              "  <svg xmlns=\"http://www.w3.org/2000/svg\" height=\"24px\"viewBox=\"0 0 24 24\"\n",
              "       width=\"24px\">\n",
              "    <path d=\"M0 0h24v24H0V0z\" fill=\"none\"/>\n",
              "    <path d=\"M18.56 5.44l.94 2.06.94-2.06 2.06-.94-2.06-.94-.94-2.06-.94 2.06-2.06.94zm-11 1L8.5 8.5l.94-2.06 2.06-.94-2.06-.94L8.5 2.5l-.94 2.06-2.06.94zm10 10l.94 2.06.94-2.06 2.06-.94-2.06-.94-.94-2.06-.94 2.06-2.06.94z\"/><path d=\"M17.41 7.96l-1.37-1.37c-.4-.4-.92-.59-1.43-.59-.52 0-1.04.2-1.43.59L10.3 9.45l-7.72 7.72c-.78.78-.78 2.05 0 2.83L4 21.41c.39.39.9.59 1.41.59.51 0 1.02-.2 1.41-.59l7.78-7.78 2.81-2.81c.8-.78.8-2.07 0-2.86zM5.41 20L4 18.59l7.72-7.72 1.47 1.35L5.41 20z\"/>\n",
              "  </svg>\n",
              "      </button>\n",
              "      \n",
              "  <style>\n",
              "    .colab-df-container {\n",
              "      display:flex;\n",
              "      flex-wrap:wrap;\n",
              "      gap: 12px;\n",
              "    }\n",
              "\n",
              "    .colab-df-convert {\n",
              "      background-color: #E8F0FE;\n",
              "      border: none;\n",
              "      border-radius: 50%;\n",
              "      cursor: pointer;\n",
              "      display: none;\n",
              "      fill: #1967D2;\n",
              "      height: 32px;\n",
              "      padding: 0 0 0 0;\n",
              "      width: 32px;\n",
              "    }\n",
              "\n",
              "    .colab-df-convert:hover {\n",
              "      background-color: #E2EBFA;\n",
              "      box-shadow: 0px 1px 2px rgba(60, 64, 67, 0.3), 0px 1px 3px 1px rgba(60, 64, 67, 0.15);\n",
              "      fill: #174EA6;\n",
              "    }\n",
              "\n",
              "    [theme=dark] .colab-df-convert {\n",
              "      background-color: #3B4455;\n",
              "      fill: #D2E3FC;\n",
              "    }\n",
              "\n",
              "    [theme=dark] .colab-df-convert:hover {\n",
              "      background-color: #434B5C;\n",
              "      box-shadow: 0px 1px 3px 1px rgba(0, 0, 0, 0.15);\n",
              "      filter: drop-shadow(0px 1px 2px rgba(0, 0, 0, 0.3));\n",
              "      fill: #FFFFFF;\n",
              "    }\n",
              "  </style>\n",
              "\n",
              "      <script>\n",
              "        const buttonEl =\n",
              "          document.querySelector('#df-659415e0-aa3b-4164-8ed4-e42d3f79c46d button.colab-df-convert');\n",
              "        buttonEl.style.display =\n",
              "          google.colab.kernel.accessAllowed ? 'block' : 'none';\n",
              "\n",
              "        async function convertToInteractive(key) {\n",
              "          const element = document.querySelector('#df-659415e0-aa3b-4164-8ed4-e42d3f79c46d');\n",
              "          const dataTable =\n",
              "            await google.colab.kernel.invokeFunction('convertToInteractive',\n",
              "                                                     [key], {});\n",
              "          if (!dataTable) return;\n",
              "\n",
              "          const docLinkHtml = 'Like what you see? Visit the ' +\n",
              "            '<a target=\"_blank\" href=https://colab.research.google.com/notebooks/data_table.ipynb>data table notebook</a>'\n",
              "            + ' to learn more about interactive tables.';\n",
              "          element.innerHTML = '';\n",
              "          dataTable['output_type'] = 'display_data';\n",
              "          await google.colab.output.renderOutput(dataTable, element);\n",
              "          const docLink = document.createElement('div');\n",
              "          docLink.innerHTML = docLinkHtml;\n",
              "          element.appendChild(docLink);\n",
              "        }\n",
              "      </script>\n",
              "    </div>\n",
              "  </div>\n",
              "  "
            ]
          },
          "metadata": {},
          "execution_count": 11
        }
      ]
    },
    {
      "cell_type": "code",
      "source": [
        "train_df.info()"
      ],
      "metadata": {
        "id": "WJe6o_265hvg",
        "colab": {
          "base_uri": "https://localhost:8080/"
        },
        "outputId": "3e7df141-4ba1-4f2e-da83-2ee164a3d49a"
      },
      "execution_count": 12,
      "outputs": [
        {
          "output_type": "stream",
          "name": "stdout",
          "text": [
            "<class 'pandas.core.frame.DataFrame'>\n",
            "RangeIndex: 27455 entries, 0 to 27454\n",
            "Columns: 785 entries, label to pixel784\n",
            "dtypes: int64(785)\n",
            "memory usage: 164.4 MB\n"
          ]
        }
      ]
    },
    {
      "cell_type": "markdown",
      "source": [
        "## Checking for Missing Data"
      ],
      "metadata": {
        "id": "K-Cyg9A16RYe"
      }
    },
    {
      "cell_type": "code",
      "source": [
        "#summing the number of null values in the training set for each column\n",
        "print(sum(train_df.isnull().sum()))\n",
        "\n",
        "#summing the number of null values in the test set for each column\n",
        "print(sum(test_df.isnull().sum()))"
      ],
      "metadata": {
        "id": "jLJh_58t6UK4",
        "colab": {
          "base_uri": "https://localhost:8080/"
        },
        "outputId": "ba94f4c7-ba52-4d48-ab27-4589050c56c6"
      },
      "execution_count": 13,
      "outputs": [
        {
          "output_type": "stream",
          "name": "stdout",
          "text": [
            "0\n",
            "0\n"
          ]
        }
      ]
    },
    {
      "cell_type": "markdown",
      "source": [
        "## splitting the data into x-train and y-train\n",
        "\n",
        "y-train is the labels because the aim of this project is to classify the picture of sign language\n",
        "\n",
        "x-train is the pixels of the picture"
      ],
      "metadata": {
        "id": "fJfpP1uHMNgu"
      }
    },
    {
      "cell_type": "code",
      "source": [
        "x_train = train_df.drop(labels = [\"label\"], axis = 1)\n",
        "y_train = train_df[\"label\"]\n",
        "\n",
        "x_test = test_df.drop(labels = [\"label\"], axis = 1)\n",
        "y_test = test_df[\"label\"]"
      ],
      "metadata": {
        "id": "1vfkCnhCfalF"
      },
      "execution_count": 14,
      "outputs": []
    },
    {
      "cell_type": "markdown",
      "source": [
        "## Showing a sample of the pictures  "
      ],
      "metadata": {
        "id": "-vOkT1yKNdgf"
      }
    },
    {
      "cell_type": "code",
      "source": [
        "#printing the train data\n",
        "k = 0\n",
        "row, col = 3, 3\n",
        "fig, ax = plt.subplots(nrows=row, ncols=col, figsize=(16,20),)\n",
        "for i in range(row):\n",
        "    for j in range(col):\n",
        "        img = x_train.iloc[k].to_numpy()\n",
        "        img = img.reshape((28,28))\n",
        "        ax[i,j].imshow(img,cmap = \"gray\")\n",
        "        ax[i,j].axis(\"off\")\n",
        "        k += 1\n",
        "plt.show()"
      ],
      "metadata": {
        "id": "lzLD_Dw-uz5p",
        "colab": {
          "base_uri": "https://localhost:8080/",
          "height": 1000
        },
        "outputId": "0b8657b1-5477-4e86-e6d9-163bae0b46c0"
      },
      "execution_count": 15,
      "outputs": [
        {
          "output_type": "display_data",
          "data": {
            "text/plain": [
              "<Figure size 1152x1440 with 9 Axes>"
            ],
            "image/png": "[encoded data removed]"
          },
          "metadata": {
            "needs_background": "light"
          }
        }
      ]
    },
    {
      "cell_type": "code",
      "source": [
        "#printing the test data\n",
        "k = 0\n",
        "row, col = 3, 3\n",
        "fig, ax = plt.subplots(nrows=row, ncols=col, figsize=(16,20),)\n",
        "for i in range(row):\n",
        "    for j in range(col):\n",
        "        img = x_test.iloc[k].to_numpy()\n",
        "        img = img.reshape((28,28))\n",
        "        ax[i,j].imshow(img,cmap = \"gray\")\n",
        "        ax[i,j].axis(\"off\")\n",
        "        k += 1\n",
        "plt.show()"
      ],
      "metadata": {
        "colab": {
          "base_uri": "https://localhost:8080/",
          "height": 1000
        },
        "id": "_dXLSCCj6Ng3",
        "outputId": "11870902-2c38-4801-c816-28e468e48199"
      },
      "execution_count": 16,
      "outputs": [
        {
          "output_type": "display_data",
          "data": {
            "text/plain": [
              "<Figure size 1152x1440 with 9 Axes>"
            ],
            "image/png": "[encoded data removed]"
          },
          "metadata": {
            "needs_background": "light"
          }
        }
      ]
    },
    {
      "cell_type": "markdown",
      "source": [
        "## Processing the Images"
      ],
      "metadata": {
        "id": "BiYiDLX46mdS"
      }
    },
    {
      "cell_type": "markdown",
      "source": [
        "To reshape the x train into 28*28=784 because we have 784 Pixels"
      ],
      "metadata": {
        "id": "pnxZqjMuJbcg"
      }
    },
    {
      "cell_type": "code",
      "source": [
        "x_train = x_train.values\n",
        "x_train=np.array([np.reshape(i,(28,28)) for i in x_train])\n",
        "x_train=np.array([i.flatten() for i in x_train])\n",
        "x_test = x_test.values\n",
        "x_test=np.array([np.reshape(i,(28,28)) for i in x_test])\n",
        "x_test=np.array([i.flatten() for i in x_test])\n",
        "print(x_train.shape)\n",
        "print(x_test.shape)"
      ],
      "metadata": {
        "id": "pJ1p314Pt1T-",
        "colab": {
          "base_uri": "https://localhost:8080/"
        },
        "outputId": "eb436bd5-800a-4575-e648-eb8e305055b5"
      },
      "execution_count": 17,
      "outputs": [
        {
          "output_type": "stream",
          "name": "stdout",
          "text": [
            "(27455, 784)\n",
            "(7172, 784)\n"
          ]
        }
      ]
    },
    {
      "cell_type": "markdown",
      "source": [
        "## Encoding\n",
        "to change y-train(labels) to zeros and ones to be easier in classification\n"
      ],
      "metadata": {
        "id": "lPiSiICBNwfz"
      }
    },
    {
      "cell_type": "code",
      "source": [
        "from sklearn.preprocessing import LabelBinarizer\n",
        "label_binrizer = LabelBinarizer()\n",
        "y_train= label_binrizer.fit_transform(y_train)\n",
        "y_test= label_binrizer.fit_transform(y_test)\n"
      ],
      "metadata": {
        "id": "nKs3Q4asgn4M"
      },
      "execution_count": 18,
      "outputs": []
    },
    {
      "cell_type": "code",
      "source": [
        "y_train"
      ],
      "metadata": {
        "id": "g2Pri-HsjxkV",
        "colab": {
          "base_uri": "https://localhost:8080/"
        },
        "outputId": "780168da-45c0-45f6-98d7-cbec606bdc00"
      },
      "execution_count": 19,
      "outputs": [
        {
          "output_type": "execute_result",
          "data": {
            "text/plain": [
              "array([[0, 0, 0, ..., 0, 0, 0],\n",
              "       [0, 0, 0, ..., 0, 0, 0],\n",
              "       [0, 0, 1, ..., 0, 0, 0],\n",
              "       ...,\n",
              "       [0, 0, 0, ..., 0, 0, 0],\n",
              "       [0, 0, 0, ..., 0, 0, 0],\n",
              "       [0, 0, 0, ..., 0, 1, 0]])"
            ]
          },
          "metadata": {},
          "execution_count": 19
        }
      ]
    },
    {
      "cell_type": "code",
      "source": [
        "y_test"
      ],
      "metadata": {
        "id": "TkU2-B6eLgsB",
        "colab": {
          "base_uri": "https://localhost:8080/"
        },
        "outputId": "aa6ed080-4f89-4366-e852-55b0a22a0f45"
      },
      "execution_count": 20,
      "outputs": [
        {
          "output_type": "execute_result",
          "data": {
            "text/plain": [
              "array([[0, 0, 0, ..., 0, 0, 0],\n",
              "       [0, 0, 0, ..., 0, 0, 0],\n",
              "       [0, 0, 0, ..., 0, 0, 0],\n",
              "       ...,\n",
              "       [0, 0, 1, ..., 0, 0, 0],\n",
              "       [0, 0, 0, ..., 0, 0, 0],\n",
              "       [0, 0, 1, ..., 0, 0, 0]])"
            ]
          },
          "metadata": {},
          "execution_count": 20
        }
      ]
    },
    {
      "cell_type": "markdown",
      "source": [
        "## Spliting Our Training Data\n"
      ],
      "metadata": {
        "id": "81m08mXSuUjJ"
      }
    },
    {
      "cell_type": "code",
      "source": [
        "#spliting training images into the images we will use for training the model and validating the model\n",
        "from sklearn.model_selection import train_test_split\n",
        "x_train, x_val, y_train, y_val = train_test_split(x_train, y_train, test_size = 0.3, random_state=0)"
      ],
      "metadata": {
        "id": "7_O21j4xuX5y"
      },
      "execution_count": 21,
      "outputs": []
    },
    {
      "cell_type": "code",
      "source": [
        "#showing the shapes of our train, validate, and test images\n",
        "print(x_train.shape)\n",
        "print(y_train.shape)\n",
        "print(x_val.shape)\n",
        "print(y_val.shape)\n",
        "print(x_test.shape)\n",
        "print(y_test.shape)"
      ],
      "metadata": {
        "id": "RS-lzuXkukVN",
        "colab": {
          "base_uri": "https://localhost:8080/"
        },
        "outputId": "24ea3a25-bbba-4f48-e1c0-460996727bc7"
      },
      "execution_count": 22,
      "outputs": [
        {
          "output_type": "stream",
          "name": "stdout",
          "text": [
            "(19218, 784)\n",
            "(19218, 24)\n",
            "(8237, 784)\n",
            "(8237, 24)\n",
            "(7172, 784)\n",
            "(7172, 24)\n"
          ]
        }
      ]
    },
    {
      "cell_type": "markdown",
      "source": [
        "## Importing the libraries"
      ],
      "metadata": {
        "id": "4VImUYLJQGv2"
      }
    },
    {
      "cell_type": "code",
      "source": [
        "from tensorflow.keras.utils import to_categorical\n",
        "from tensorflow.keras.models import Sequential\n",
        "from tensorflow.keras.layers import Conv2D\n",
        "from tensorflow.keras.layers import MaxPooling2D\n",
        "from tensorflow.keras.layers import Dense\n",
        "from tensorflow.keras.layers import Flatten\n",
        "from tensorflow.keras.layers import Dropout\n",
        "from keras.layers import BatchNormalization"
      ],
      "metadata": {
        "id": "aI9yekHN_fSS"
      },
      "execution_count": 23,
      "outputs": []
    },
    {
      "cell_type": "code",
      "source": [
        "#converting the range of the pixel data from 0-255 to 0-1\n",
        "x_train = x_train / 255.0\n",
        "x_val = x_val / 255.0\n",
        "x_test = x_test / 255.0"
      ],
      "metadata": {
        "id": "G5bHZhqOg-WE"
      },
      "execution_count": 24,
      "outputs": []
    },
    {
      "cell_type": "code",
      "source": [
        "# reshaping the data to be ready to feed it to the model\n",
        "x_train = x_train.reshape(x_train.shape[0], 28, 28, 1)\n",
        "x_val = x_val.reshape(x_val.shape[0], 28, 28, 1)\n",
        "x_test = x_test.reshape(x_test.shape[0], 28, 28, 1)"
      ],
      "metadata": {
        "id": "Bh8FBEd-QsuI"
      },
      "execution_count": 25,
      "outputs": []
    },
    {
      "cell_type": "code",
      "source": [
        "#printing the shapes\n",
        "print(x_train.shape)\n",
        "print(y_train.shape)\n",
        "print(x_val.shape)\n",
        "print(y_val.shape)"
      ],
      "metadata": {
        "colab": {
          "base_uri": "https://localhost:8080/"
        },
        "id": "SMfqrFOBGzsq",
        "outputId": "669b0f62-c831-49fb-e48f-2e1b9be8b6b1"
      },
      "execution_count": 26,
      "outputs": [
        {
          "output_type": "stream",
          "name": "stdout",
          "text": [
            "(19218, 28, 28, 1)\n",
            "(19218, 24)\n",
            "(8237, 28, 28, 1)\n",
            "(8237, 24)\n"
          ]
        }
      ]
    },
    {
      "cell_type": "markdown",
      "source": [
        "## Building the model"
      ],
      "metadata": {
        "id": "IKBYhVIUQuEb"
      }
    },
    {
      "cell_type": "markdown",
      "source": [
        "The Sequential⇒creating deep learning models where an instance of the Sequential class is created and model layers are created and added to it.\n",
        "\n",
        "conv layer⇒ consist of set of learnable filters\n",
        "\n",
        "Batch normalization layer⇒ is a layer that allows every layer of the network to do learning more independently and avoid overfitting of the model.\n",
        "\n",
        "MaxPooling2D layer⇒ Downsamples the input dimensions by taking the maximum value over an input window for each channel of the input. The window is shifted by strides along each dimension.\n",
        "\n",
        "Dropout layer⇒ It drop some of the unwanted parameters to help avoid overfitting of the model.\n",
        "\n",
        "Flatten layer⇒ converting the data into a 1-dimensional array for inputting. We flatten the output of the convolutional layers to create a single long feature vector. And it is connected to the final classification model, which is called a fully-connected layer.\n",
        "\n",
        "Relu layer⇒ In this layer we remove every negative value from the filtered image and replace it with zero\n",
        "\n",
        "Softmax layer⇒ is a generalization of the Logistic Function, and it makes sure that our prediction add up to 1 to Classify.\n",
        "\n",
        "categorical crossentropy⇒ Used as a loss function for multi-class classification model where there are two or more output labels\n",
        "\n"
      ],
      "metadata": {
        "id": "5khLojeyX0GZ"
      }
    },
    {
      "cell_type": "markdown",
      "source": [
        "### Simple model "
      ],
      "metadata": {
        "id": "2Yg3ybvGGlSs"
      }
    },
    {
      "cell_type": "code",
      "source": [
        "model=Sequential()\n",
        "model.add(Conv2D(32,(3,3),activation='relu',input_shape=(28,28,1)))\n",
        "model.add(Conv2D(32,(3,3),activation='relu'))\n",
        "\n",
        "model.add(Conv2D(64,(3,3),activation='relu'))\n",
        "\n",
        "model.add(Flatten())\n",
        "model.add(Dropout(0.25))\n",
        "model.add(Dense(32,activation='relu'))\n",
        "model.add(Dense(24,activation='softmax'))\n",
        "\n",
        "model.compile(optimizer='adam',loss='categorical_crossentropy',metrics=['accuracy'])"
      ],
      "metadata": {
        "id": "eXzovU5U7RS8"
      },
      "execution_count": 27,
      "outputs": []
    },
    {
      "cell_type": "code",
      "source": [
        "model.summary()"
      ],
      "metadata": {
        "colab": {
          "base_uri": "https://localhost:8080/"
        },
        "id": "ZAGlAN1d7SHD",
        "outputId": "e163c7ef-8da1-448a-a900-4253438e0e9d"
      },
      "execution_count": 28,
      "outputs": [
        {
          "output_type": "stream",
          "name": "stdout",
          "text": [
            "Model: \"sequential\"\n",
            "_________________________________________________________________\n",
            " Layer (type)                Output Shape              Param #   \n",
            "=================================================================\n",
            " conv2d (Conv2D)             (None, 26, 26, 32)        320       \n",
            "                                                                 \n",
            " conv2d_1 (Conv2D)           (None, 24, 24, 32)        9248      \n",
            "                                                                 \n",
            " conv2d_2 (Conv2D)           (None, 22, 22, 64)        18496     \n",
            "                                                                 \n",
            " flatten (Flatten)           (None, 30976)             0         \n",
            "                                                                 \n",
            " dropout (Dropout)           (None, 30976)             0         \n",
            "                                                                 \n",
            " dense (Dense)               (None, 32)                991264    \n",
            "                                                                 \n",
            " dense_1 (Dense)             (None, 24)                792       \n",
            "                                                                 \n",
            "=================================================================\n",
            "Total params: 1,020,120\n",
            "Trainable params: 1,020,120\n",
            "Non-trainable params: 0\n",
            "_________________________________________________________________\n"
          ]
        }
      ]
    },
    {
      "cell_type": "code",
      "source": [
        "history = model.fit(x_train,y_train,validation_data= (x_val,y_val), batch_size = 128, epochs=20 )"
      ],
      "metadata": {
        "colab": {
          "base_uri": "https://localhost:8080/"
        },
        "id": "AIDir6xW7R-K",
        "outputId": "9eec83e9-47e7-4bc4-cea7-90df3dc50964"
      },
      "execution_count": 29,
      "outputs": [
        {
          "output_type": "stream",
          "name": "stdout",
          "text": [
            "Epoch 1/20\n",
            "151/151 [==============================] - 6s 18ms/step - loss: 1.5954 - accuracy: 0.5239 - val_loss: 0.3620 - val_accuracy: 0.8906\n",
            "Epoch 2/20\n",
            "151/151 [==============================] - 2s 13ms/step - loss: 0.1281 - accuracy: 0.9653 - val_loss: 0.0205 - val_accuracy: 0.9982\n",
            "Epoch 3/20\n",
            "151/151 [==============================] - 2s 16ms/step - loss: 0.0200 - accuracy: 0.9964 - val_loss: 0.0179 - val_accuracy: 0.9970\n",
            "Epoch 4/20\n",
            "151/151 [==============================] - 2s 14ms/step - loss: 0.0116 - accuracy: 0.9976 - val_loss: 0.0047 - val_accuracy: 0.9992\n",
            "Epoch 5/20\n",
            "151/151 [==============================] - 2s 13ms/step - loss: 0.0191 - accuracy: 0.9948 - val_loss: 0.0064 - val_accuracy: 0.9989\n",
            "Epoch 6/20\n",
            "151/151 [==============================] - 2s 13ms/step - loss: 0.0020 - accuracy: 0.9999 - val_loss: 0.0061 - val_accuracy: 0.9985\n",
            "Epoch 7/20\n",
            "151/151 [==============================] - 2s 13ms/step - loss: 0.0115 - accuracy: 0.9966 - val_loss: 0.0043 - val_accuracy: 0.9992\n",
            "Epoch 8/20\n",
            "151/151 [==============================] - 2s 13ms/step - loss: 0.0104 - accuracy: 0.9970 - val_loss: 0.0083 - val_accuracy: 0.9975\n",
            "Epoch 9/20\n",
            "151/151 [==============================] - 2s 14ms/step - loss: 0.0297 - accuracy: 0.9913 - val_loss: 0.0014 - val_accuracy: 0.9999\n",
            "Epoch 10/20\n",
            "151/151 [==============================] - 2s 14ms/step - loss: 5.0314e-04 - accuracy: 1.0000 - val_loss: 9.6868e-04 - val_accuracy: 0.9999\n",
            "Epoch 11/20\n",
            "151/151 [==============================] - 2s 13ms/step - loss: 2.2788e-04 - accuracy: 1.0000 - val_loss: 6.2811e-04 - val_accuracy: 0.9999\n",
            "Epoch 12/20\n",
            "151/151 [==============================] - 2s 13ms/step - loss: 1.7174e-04 - accuracy: 1.0000 - val_loss: 5.0025e-04 - val_accuracy: 0.9999\n",
            "Epoch 13/20\n",
            "151/151 [==============================] - 2s 13ms/step - loss: 1.3186e-04 - accuracy: 1.0000 - val_loss: 6.9551e-04 - val_accuracy: 0.9999\n",
            "Epoch 14/20\n",
            "151/151 [==============================] - 2s 13ms/step - loss: 9.6166e-05 - accuracy: 1.0000 - val_loss: 6.2026e-04 - val_accuracy: 0.9999\n",
            "Epoch 15/20\n",
            "151/151 [==============================] - 2s 14ms/step - loss: 7.8579e-05 - accuracy: 1.0000 - val_loss: 5.0723e-04 - val_accuracy: 0.9999\n",
            "Epoch 16/20\n",
            "151/151 [==============================] - 2s 13ms/step - loss: 5.1399e-05 - accuracy: 1.0000 - val_loss: 4.1749e-04 - val_accuracy: 0.9999\n",
            "Epoch 17/20\n",
            "151/151 [==============================] - 2s 13ms/step - loss: 5.1416e-05 - accuracy: 1.0000 - val_loss: 4.1370e-04 - val_accuracy: 0.9999\n",
            "Epoch 18/20\n",
            "151/151 [==============================] - 2s 13ms/step - loss: 4.3320e-05 - accuracy: 1.0000 - val_loss: 6.8307e-04 - val_accuracy: 0.9999\n",
            "Epoch 19/20\n",
            "151/151 [==============================] - 2s 13ms/step - loss: 3.5234e-05 - accuracy: 1.0000 - val_loss: 5.1589e-04 - val_accuracy: 0.9999\n",
            "Epoch 20/20\n",
            "151/151 [==============================] - 2s 13ms/step - loss: 3.2663e-05 - accuracy: 1.0000 - val_loss: 6.1158e-04 - val_accuracy: 0.9999\n"
          ]
        }
      ]
    },
    {
      "cell_type": "markdown",
      "source": [
        "### More complex model"
      ],
      "metadata": {
        "id": "4IjgAkMNGO7_"
      }
    },
    {
      "cell_type": "code",
      "source": [
        "model=Sequential()\n",
        "model.add(Conv2D(32,(3,3),activation='relu',input_shape=(28,28,1)))\n",
        "model.add(Conv2D(32,(3,3),activation='relu'))\n",
        "model.add(BatchNormalization())\n",
        "model.add(MaxPooling2D(2,2))\n",
        "model.add(Dropout(0.25))\n",
        "model.add(Conv2D(64,(3,3),activation='relu'))\n",
        "model.add(Conv2D(64,(3,3),activation='relu'))\n",
        "model.add(BatchNormalization())\n",
        "model.add(MaxPooling2D(2,2))\n",
        "model.add(Dropout(0.25))\n",
        "model.add(Conv2D(128,(3,3),activation='relu'))\n",
        "\n",
        "model.add(BatchNormalization())\n",
        "model.add(MaxPooling2D(2,2))\n",
        "model.add(Dropout(0.25))\n",
        "\n",
        "model.add(BatchNormalization())\n",
        "\n",
        "model.add(Flatten())\n",
        "model.add(Dropout(0.25))\n",
        "model.add(Dense(64,activation='relu'))\n",
        "model.add(Dense(24,activation='softmax'))\n",
        "\n",
        "\n",
        "model.compile(optimizer='adam',loss='categorical_crossentropy',metrics=['accuracy'])"
      ],
      "metadata": {
        "id": "-B1nDP_C-oEO"
      },
      "execution_count": 30,
      "outputs": []
    },
    {
      "cell_type": "code",
      "source": [
        "model.summary()"
      ],
      "metadata": {
        "id": "LRM709qYxW5H",
        "colab": {
          "base_uri": "https://localhost:8080/"
        },
        "outputId": "54b72cec-9d46-4e80-c51d-6b0fc839f197"
      },
      "execution_count": 31,
      "outputs": [
        {
          "output_type": "stream",
          "name": "stdout",
          "text": [
            "Model: \"sequential_1\"\n",
            "_________________________________________________________________\n",
            " Layer (type)                Output Shape              Param #   \n",
            "=================================================================\n",
            " conv2d_3 (Conv2D)           (None, 26, 26, 32)        320       \n",
            "                                                                 \n",
            " conv2d_4 (Conv2D)           (None, 24, 24, 32)        9248      \n",
            "                                                                 \n",
            " batch_normalization (BatchN  (None, 24, 24, 32)       128       \n",
            " ormalization)                                                   \n",
            "                                                                 \n",
            " max_pooling2d (MaxPooling2D  (None, 12, 12, 32)       0         \n",
            " )                                                               \n",
            "                                                                 \n",
            " dropout_1 (Dropout)         (None, 12, 12, 32)        0         \n",
            "                                                                 \n",
            " conv2d_5 (Conv2D)           (None, 10, 10, 64)        18496     \n",
            "                                                                 \n",
            " conv2d_6 (Conv2D)           (None, 8, 8, 64)          36928     \n",
            "                                                                 \n",
            " batch_normalization_1 (Batc  (None, 8, 8, 64)         256       \n",
            " hNormalization)                                                 \n",
            "                                                                 \n",
            " max_pooling2d_1 (MaxPooling  (None, 4, 4, 64)         0         \n",
            " 2D)                                                             \n",
            "                                                                 \n",
            " dropout_2 (Dropout)         (None, 4, 4, 64)          0         \n",
            "                                                                 \n",
            " conv2d_7 (Conv2D)           (None, 2, 2, 128)         73856     \n",
            "                                                                 \n",
            " batch_normalization_2 (Batc  (None, 2, 2, 128)        512       \n",
            " hNormalization)                                                 \n",
            "                                                                 \n",
            " max_pooling2d_2 (MaxPooling  (None, 1, 1, 128)        0         \n",
            " 2D)                                                             \n",
            "                                                                 \n",
            " dropout_3 (Dropout)         (None, 1, 1, 128)         0         \n",
            "                                                                 \n",
            " batch_normalization_3 (Batc  (None, 1, 1, 128)        512       \n",
            " hNormalization)                                                 \n",
            "                                                                 \n",
            " flatten_1 (Flatten)         (None, 128)               0         \n",
            "                                                                 \n",
            " dropout_4 (Dropout)         (None, 128)               0         \n",
            "                                                                 \n",
            " dense_2 (Dense)             (None, 64)                8256      \n",
            "                                                                 \n",
            " dense_3 (Dense)             (None, 24)                1560      \n",
            "                                                                 \n",
            "=================================================================\n",
            "Total params: 150,072\n",
            "Trainable params: 149,368\n",
            "Non-trainable params: 704\n",
            "_________________________________________________________________\n"
          ]
        }
      ]
    },
    {
      "cell_type": "code",
      "source": [
        "history = model.fit(x_train,y_train,validation_data= (x_val,y_val), batch_size = 128, epochs=20 )"
      ],
      "metadata": {
        "id": "AS-2OhGM_hmd",
        "colab": {
          "base_uri": "https://localhost:8080/"
        },
        "outputId": "efc48979-3dc1-41a8-9fdf-bf6ae21f416e"
      },
      "execution_count": 32,
      "outputs": [
        {
          "output_type": "stream",
          "name": "stdout",
          "text": [
            "Epoch 1/20\n",
            "151/151 [==============================] - 3s 14ms/step - loss: 1.6797 - accuracy: 0.5055 - val_loss: 3.6849 - val_accuracy: 0.0397\n",
            "Epoch 2/20\n",
            "151/151 [==============================] - 2s 11ms/step - loss: 0.3888 - accuracy: 0.8885 - val_loss: 2.9546 - val_accuracy: 0.1842\n",
            "Epoch 3/20\n",
            "151/151 [==============================] - 2s 11ms/step - loss: 0.1421 - accuracy: 0.9637 - val_loss: 0.9397 - val_accuracy: 0.7142\n",
            "Epoch 4/20\n",
            "151/151 [==============================] - 2s 11ms/step - loss: 0.0714 - accuracy: 0.9834 - val_loss: 0.0356 - val_accuracy: 0.9992\n",
            "Epoch 5/20\n",
            "151/151 [==============================] - 2s 11ms/step - loss: 0.0451 - accuracy: 0.9887 - val_loss: 0.0151 - val_accuracy: 0.9990\n",
            "Epoch 6/20\n",
            "151/151 [==============================] - 2s 11ms/step - loss: 0.0295 - accuracy: 0.9929 - val_loss: 0.0091 - val_accuracy: 0.9982\n",
            "Epoch 7/20\n",
            "151/151 [==============================] - 2s 11ms/step - loss: 0.0253 - accuracy: 0.9939 - val_loss: 0.0332 - val_accuracy: 0.9880\n",
            "Epoch 8/20\n",
            "151/151 [==============================] - 2s 11ms/step - loss: 0.0248 - accuracy: 0.9934 - val_loss: 0.0032 - val_accuracy: 0.9994\n",
            "Epoch 9/20\n",
            "151/151 [==============================] - 2s 11ms/step - loss: 0.0175 - accuracy: 0.9952 - val_loss: 0.0012 - val_accuracy: 1.0000\n",
            "Epoch 10/20\n",
            "151/151 [==============================] - 2s 11ms/step - loss: 0.0122 - accuracy: 0.9964 - val_loss: 0.0064 - val_accuracy: 0.9987\n",
            "Epoch 11/20\n",
            "151/151 [==============================] - 2s 11ms/step - loss: 0.0130 - accuracy: 0.9969 - val_loss: 0.0270 - val_accuracy: 0.9919\n",
            "Epoch 12/20\n",
            "151/151 [==============================] - 2s 11ms/step - loss: 0.0109 - accuracy: 0.9979 - val_loss: 9.7416e-05 - val_accuracy: 1.0000\n",
            "Epoch 13/20\n",
            "151/151 [==============================] - 2s 12ms/step - loss: 0.0130 - accuracy: 0.9963 - val_loss: 0.0482 - val_accuracy: 0.9846\n",
            "Epoch 14/20\n",
            "151/151 [==============================] - 2s 11ms/step - loss: 0.0107 - accuracy: 0.9973 - val_loss: 0.0027 - val_accuracy: 0.9995\n",
            "Epoch 15/20\n",
            "151/151 [==============================] - 2s 11ms/step - loss: 0.0191 - accuracy: 0.9944 - val_loss: 0.0013 - val_accuracy: 1.0000\n",
            "Epoch 16/20\n",
            "151/151 [==============================] - 2s 11ms/step - loss: 0.0119 - accuracy: 0.9962 - val_loss: 5.6029e-04 - val_accuracy: 0.9999\n",
            "Epoch 17/20\n",
            "151/151 [==============================] - 2s 11ms/step - loss: 0.0088 - accuracy: 0.9973 - val_loss: 4.2552e-04 - val_accuracy: 1.0000\n",
            "Epoch 18/20\n",
            "151/151 [==============================] - 2s 11ms/step - loss: 0.0096 - accuracy: 0.9973 - val_loss: 6.8542e-04 - val_accuracy: 1.0000\n",
            "Epoch 19/20\n",
            "151/151 [==============================] - 2s 12ms/step - loss: 0.0106 - accuracy: 0.9966 - val_loss: 0.0032 - val_accuracy: 0.9994\n",
            "Epoch 20/20\n",
            "151/151 [==============================] - 2s 11ms/step - loss: 0.0107 - accuracy: 0.9966 - val_loss: 0.0210 - val_accuracy: 0.9930\n"
          ]
        }
      ]
    },
    {
      "cell_type": "markdown",
      "source": [
        "### The model might be complex for this data try to simplify the model"
      ],
      "metadata": {
        "id": "4MlwUA5uMiJz"
      }
    },
    {
      "cell_type": "code",
      "source": [
        "model=Sequential()\n",
        "model.add(Conv2D(32,(3,3),activation='relu',input_shape=(28,28,1)))\n",
        "model.add(Conv2D(32,(3,3),activation='relu'))\n",
        "\n",
        "model.add(MaxPooling2D(2,2))\n",
        "model.add(Dropout(0.25))\n",
        "model.add(Conv2D(64,(3,3),activation='relu'))\n",
        "\n",
        "model.add(MaxPooling2D(2,2))\n",
        "model.add(Dropout(0.25))\n",
        "model.add(Conv2D(128,(3,3),activation='relu'))\n",
        "\n",
        "model.add(Flatten())\n",
        "model.add(Dropout(0.25))\n",
        "model.add(Dense(64,activation='relu'))\n",
        "model.add(Dense(24,activation='softmax'))\n",
        "\n",
        "\n",
        "model.compile(optimizer='adam',loss='categorical_crossentropy',metrics=['accuracy'])"
      ],
      "metadata": {
        "id": "-5Z-S2Qzl4it"
      },
      "execution_count": 33,
      "outputs": []
    },
    {
      "cell_type": "code",
      "source": [
        "model.summary()"
      ],
      "metadata": {
        "id": "u-imRpJcSOuJ",
        "colab": {
          "base_uri": "https://localhost:8080/"
        },
        "outputId": "20ded685-bd78-4efb-a313-237f87c9c2af"
      },
      "execution_count": 34,
      "outputs": [
        {
          "output_type": "stream",
          "name": "stdout",
          "text": [
            "Model: \"sequential_2\"\n",
            "_________________________________________________________________\n",
            " Layer (type)                Output Shape              Param #   \n",
            "=================================================================\n",
            " conv2d_8 (Conv2D)           (None, 26, 26, 32)        320       \n",
            "                                                                 \n",
            " conv2d_9 (Conv2D)           (None, 24, 24, 32)        9248      \n",
            "                                                                 \n",
            " max_pooling2d_3 (MaxPooling  (None, 12, 12, 32)       0         \n",
            " 2D)                                                             \n",
            "                                                                 \n",
            " dropout_5 (Dropout)         (None, 12, 12, 32)        0         \n",
            "                                                                 \n",
            " conv2d_10 (Conv2D)          (None, 10, 10, 64)        18496     \n",
            "                                                                 \n",
            " max_pooling2d_4 (MaxPooling  (None, 5, 5, 64)         0         \n",
            " 2D)                                                             \n",
            "                                                                 \n",
            " dropout_6 (Dropout)         (None, 5, 5, 64)          0         \n",
            "                                                                 \n",
            " conv2d_11 (Conv2D)          (None, 3, 3, 128)         73856     \n",
            "                                                                 \n",
            " flatten_2 (Flatten)         (None, 1152)              0         \n",
            "                                                                 \n",
            " dropout_7 (Dropout)         (None, 1152)              0         \n",
            "                                                                 \n",
            " dense_4 (Dense)             (None, 64)                73792     \n",
            "                                                                 \n",
            " dense_5 (Dense)             (None, 24)                1560      \n",
            "                                                                 \n",
            "=================================================================\n",
            "Total params: 177,272\n",
            "Trainable params: 177,272\n",
            "Non-trainable params: 0\n",
            "_________________________________________________________________\n"
          ]
        }
      ]
    },
    {
      "cell_type": "code",
      "source": [
        "history = model.fit(x_train,y_train,validation_data= (x_val,y_val), batch_size = 128, epochs=20 )"
      ],
      "metadata": {
        "id": "jXRWOuHVSRo8",
        "colab": {
          "base_uri": "https://localhost:8080/"
        },
        "outputId": "dcc7f780-5f39-4815-bdc4-4d5db71ae5d1"
      },
      "execution_count": 35,
      "outputs": [
        {
          "output_type": "stream",
          "name": "stdout",
          "text": [
            "Epoch 1/20\n",
            "151/151 [==============================] - 2s 11ms/step - loss: 2.4068 - accuracy: 0.2647 - val_loss: 1.1717 - val_accuracy: 0.6513\n",
            "Epoch 2/20\n",
            "151/151 [==============================] - 2s 10ms/step - loss: 0.8257 - accuracy: 0.7271 - val_loss: 0.3244 - val_accuracy: 0.8946\n",
            "Epoch 3/20\n",
            "151/151 [==============================] - 1s 10ms/step - loss: 0.3138 - accuracy: 0.8936 - val_loss: 0.0825 - val_accuracy: 0.9849\n",
            "Epoch 4/20\n",
            "151/151 [==============================] - 2s 10ms/step - loss: 0.1540 - accuracy: 0.9462 - val_loss: 0.0280 - val_accuracy: 0.9976\n",
            "Epoch 5/20\n",
            "151/151 [==============================] - 1s 10ms/step - loss: 0.0943 - accuracy: 0.9683 - val_loss: 0.0113 - val_accuracy: 0.9990\n",
            "Epoch 6/20\n",
            "151/151 [==============================] - 1s 10ms/step - loss: 0.0597 - accuracy: 0.9815 - val_loss: 0.0077 - val_accuracy: 0.9998\n",
            "Epoch 7/20\n",
            "151/151 [==============================] - 1s 10ms/step - loss: 0.0496 - accuracy: 0.9840 - val_loss: 0.0038 - val_accuracy: 1.0000\n",
            "Epoch 8/20\n",
            "151/151 [==============================] - 1s 9ms/step - loss: 0.0363 - accuracy: 0.9887 - val_loss: 0.0028 - val_accuracy: 1.0000\n",
            "Epoch 9/20\n",
            "151/151 [==============================] - 2s 10ms/step - loss: 0.0384 - accuracy: 0.9882 - val_loss: 0.0027 - val_accuracy: 1.0000\n",
            "Epoch 10/20\n",
            "151/151 [==============================] - 1s 9ms/step - loss: 0.0250 - accuracy: 0.9923 - val_loss: 9.1405e-04 - val_accuracy: 1.0000\n",
            "Epoch 11/20\n",
            "151/151 [==============================] - 1s 9ms/step - loss: 0.0206 - accuracy: 0.9935 - val_loss: 8.0042e-04 - val_accuracy: 0.9999\n",
            "Epoch 12/20\n",
            "151/151 [==============================] - 1s 10ms/step - loss: 0.0189 - accuracy: 0.9940 - val_loss: 7.2734e-04 - val_accuracy: 1.0000\n",
            "Epoch 13/20\n",
            "151/151 [==============================] - 1s 10ms/step - loss: 0.0178 - accuracy: 0.9939 - val_loss: 5.3146e-04 - val_accuracy: 1.0000\n",
            "Epoch 14/20\n",
            "151/151 [==============================] - 1s 9ms/step - loss: 0.0134 - accuracy: 0.9963 - val_loss: 2.4525e-04 - val_accuracy: 1.0000\n",
            "Epoch 15/20\n",
            "151/151 [==============================] - 1s 10ms/step - loss: 0.0196 - accuracy: 0.9937 - val_loss: 4.9991e-04 - val_accuracy: 1.0000\n",
            "Epoch 16/20\n",
            "151/151 [==============================] - 1s 10ms/step - loss: 0.0137 - accuracy: 0.9959 - val_loss: 3.0539e-04 - val_accuracy: 1.0000\n",
            "Epoch 17/20\n",
            "151/151 [==============================] - 2s 10ms/step - loss: 0.0155 - accuracy: 0.9949 - val_loss: 3.0848e-04 - val_accuracy: 1.0000\n",
            "Epoch 18/20\n",
            "151/151 [==============================] - 2s 10ms/step - loss: 0.0178 - accuracy: 0.9942 - val_loss: 2.7207e-04 - val_accuracy: 1.0000\n",
            "Epoch 19/20\n",
            "151/151 [==============================] - 2s 10ms/step - loss: 0.0091 - accuracy: 0.9971 - val_loss: 1.0207e-04 - val_accuracy: 1.0000\n",
            "Epoch 20/20\n",
            "151/151 [==============================] - 1s 9ms/step - loss: 0.0108 - accuracy: 0.9966 - val_loss: 3.6837e-05 - val_accuracy: 1.0000\n"
          ]
        }
      ]
    },
    {
      "cell_type": "markdown",
      "source": [
        "### Trying anthoer model and chaning some number to see the difference"
      ],
      "metadata": {
        "id": "wSZT7r2uNH2z"
      }
    },
    {
      "cell_type": "code",
      "source": [
        "model=Sequential()\n",
        "model.add(Conv2D(32,(3,3),activation='relu',input_shape=(28,28,1)))\n",
        "model.add(Conv2D(32,(3,3),activation='relu'))\n",
        "model.add(BatchNormalization())\n",
        "model.add(MaxPooling2D(2,2))\n",
        "model.add(Dropout(0.25))\n",
        "model.add(Conv2D(64,(3,3),activation='relu'))\n",
        "\n",
        "model.add(BatchNormalization())\n",
        "model.add(MaxPooling2D(2,2))\n",
        "model.add(Dropout(0.25))\n",
        "\n",
        "model.add(Flatten())\n",
        "model.add(Dropout(0.25))\n",
        "model.add(Dense(32,activation='relu'))\n",
        "model.add(Dense(24,activation='softmax'))\n",
        "\n",
        "model.compile(optimizer='adam',loss='categorical_crossentropy',metrics=['accuracy'])"
      ],
      "metadata": {
        "id": "_nquCUOzSaEJ"
      },
      "execution_count": 36,
      "outputs": []
    },
    {
      "cell_type": "code",
      "source": [
        "model.summary()"
      ],
      "metadata": {
        "id": "NFk_EpQnTDTo",
        "colab": {
          "base_uri": "https://localhost:8080/"
        },
        "outputId": "771e9451-e172-4da1-fc89-1f1b19898de8"
      },
      "execution_count": 37,
      "outputs": [
        {
          "output_type": "stream",
          "name": "stdout",
          "text": [
            "Model: \"sequential_3\"\n",
            "_________________________________________________________________\n",
            " Layer (type)                Output Shape              Param #   \n",
            "=================================================================\n",
            " conv2d_12 (Conv2D)          (None, 26, 26, 32)        320       \n",
            "                                                                 \n",
            " conv2d_13 (Conv2D)          (None, 24, 24, 32)        9248      \n",
            "                                                                 \n",
            " batch_normalization_4 (Batc  (None, 24, 24, 32)       128       \n",
            " hNormalization)                                                 \n",
            "                                                                 \n",
            " max_pooling2d_5 (MaxPooling  (None, 12, 12, 32)       0         \n",
            " 2D)                                                             \n",
            "                                                                 \n",
            " dropout_8 (Dropout)         (None, 12, 12, 32)        0         \n",
            "                                                                 \n",
            " conv2d_14 (Conv2D)          (None, 10, 10, 64)        18496     \n",
            "                                                                 \n",
            " batch_normalization_5 (Batc  (None, 10, 10, 64)       256       \n",
            " hNormalization)                                                 \n",
            "                                                                 \n",
            " max_pooling2d_6 (MaxPooling  (None, 5, 5, 64)         0         \n",
            " 2D)                                                             \n",
            "                                                                 \n",
            " dropout_9 (Dropout)         (None, 5, 5, 64)          0         \n",
            "                                                                 \n",
            " flatten_3 (Flatten)         (None, 1600)              0         \n",
            "                                                                 \n",
            " dropout_10 (Dropout)        (None, 1600)              0         \n",
            "                                                                 \n",
            " dense_6 (Dense)             (None, 32)                51232     \n",
            "                                                                 \n",
            " dense_7 (Dense)             (None, 24)                792       \n",
            "                                                                 \n",
            "=================================================================\n",
            "Total params: 80,472\n",
            "Trainable params: 80,280\n",
            "Non-trainable params: 192\n",
            "_________________________________________________________________\n"
          ]
        }
      ]
    },
    {
      "cell_type": "code",
      "source": [
        "history = model.fit(x_train,y_train,validation_data= (x_val,y_val), batch_size = 128, epochs=20 )"
      ],
      "metadata": {
        "id": "m-RHDEnCTHuA",
        "colab": {
          "base_uri": "https://localhost:8080/"
        },
        "outputId": "262ceea0-6805-4011-d403-aec4e598ce2b"
      },
      "execution_count": 38,
      "outputs": [
        {
          "output_type": "stream",
          "name": "stdout",
          "text": [
            "Epoch 1/20\n",
            "151/151 [==============================] - 2s 12ms/step - loss: 1.6717 - accuracy: 0.4833 - val_loss: 4.2377 - val_accuracy: 0.0369\n",
            "Epoch 2/20\n",
            "151/151 [==============================] - 2s 10ms/step - loss: 0.2914 - accuracy: 0.9052 - val_loss: 4.1512 - val_accuracy: 0.0464\n",
            "Epoch 3/20\n",
            "151/151 [==============================] - 1s 9ms/step - loss: 0.1023 - accuracy: 0.9681 - val_loss: 2.4527 - val_accuracy: 0.2851\n",
            "Epoch 4/20\n",
            "151/151 [==============================] - 1s 10ms/step - loss: 0.0439 - accuracy: 0.9882 - val_loss: 0.1772 - val_accuracy: 0.9700\n",
            "Epoch 5/20\n",
            "151/151 [==============================] - 1s 10ms/step - loss: 0.0307 - accuracy: 0.9915 - val_loss: 0.0167 - val_accuracy: 0.9993\n",
            "Epoch 6/20\n",
            "151/151 [==============================] - 1s 10ms/step - loss: 0.0262 - accuracy: 0.9919 - val_loss: 0.4728 - val_accuracy: 0.8496\n",
            "Epoch 7/20\n",
            "151/151 [==============================] - 1s 10ms/step - loss: 0.0185 - accuracy: 0.9946 - val_loss: 0.0139 - val_accuracy: 0.9983\n",
            "Epoch 8/20\n",
            "151/151 [==============================] - 2s 10ms/step - loss: 0.0109 - accuracy: 0.9975 - val_loss: 0.0016 - val_accuracy: 0.9999\n",
            "Epoch 9/20\n",
            "151/151 [==============================] - 2s 10ms/step - loss: 0.0106 - accuracy: 0.9969 - val_loss: 0.0113 - val_accuracy: 0.9965\n",
            "Epoch 10/20\n",
            "151/151 [==============================] - 1s 10ms/step - loss: 0.0117 - accuracy: 0.9965 - val_loss: 0.0039 - val_accuracy: 0.9993\n",
            "Epoch 11/20\n",
            "151/151 [==============================] - 2s 10ms/step - loss: 0.0087 - accuracy: 0.9975 - val_loss: 4.1268e-04 - val_accuracy: 1.0000\n",
            "Epoch 12/20\n",
            "151/151 [==============================] - 2s 10ms/step - loss: 0.0082 - accuracy: 0.9978 - val_loss: 5.4800e-04 - val_accuracy: 0.9999\n",
            "Epoch 13/20\n",
            "151/151 [==============================] - 1s 10ms/step - loss: 0.0107 - accuracy: 0.9967 - val_loss: 0.0110 - val_accuracy: 0.9951\n",
            "Epoch 14/20\n",
            "151/151 [==============================] - 2s 10ms/step - loss: 0.0089 - accuracy: 0.9971 - val_loss: 4.0311e-04 - val_accuracy: 1.0000\n",
            "Epoch 15/20\n",
            "151/151 [==============================] - 1s 10ms/step - loss: 0.0074 - accuracy: 0.9975 - val_loss: 7.3642e-04 - val_accuracy: 0.9999\n",
            "Epoch 16/20\n",
            "151/151 [==============================] - 1s 10ms/step - loss: 0.0080 - accuracy: 0.9977 - val_loss: 0.0022 - val_accuracy: 0.9998\n",
            "Epoch 17/20\n",
            "151/151 [==============================] - 1s 10ms/step - loss: 0.0048 - accuracy: 0.9989 - val_loss: 0.0014 - val_accuracy: 0.9999\n",
            "Epoch 18/20\n",
            "151/151 [==============================] - 2s 10ms/step - loss: 0.0054 - accuracy: 0.9983 - val_loss: 4.0529e-04 - val_accuracy: 1.0000\n",
            "Epoch 19/20\n",
            "151/151 [==============================] - 1s 9ms/step - loss: 0.0105 - accuracy: 0.9972 - val_loss: 0.1619 - val_accuracy: 0.9523\n",
            "Epoch 20/20\n",
            "151/151 [==============================] - 1s 10ms/step - loss: 0.0094 - accuracy: 0.9969 - val_loss: 0.0051 - val_accuracy: 0.9987\n"
          ]
        }
      ]
    },
    {
      "cell_type": "code",
      "source": [
        "#Viewing the training results\n",
        "history_frame = pd.DataFrame(history.history)\n",
        "history_frame.loc[:, ['loss', 'val_loss']].plot()\n",
        "history_frame.loc[:, ['accuracy', 'val_accuracy']].plot();"
      ],
      "metadata": {
        "id": "TqxF7UlUUN-I",
        "colab": {
          "base_uri": "https://localhost:8080/",
          "height": 513
        },
        "outputId": "ecb91f0f-dabc-4b1f-f78b-40285f8ac718"
      },
      "execution_count": 39,
      "outputs": [
        {
          "output_type": "display_data",
          "data": {
            "text/plain": [
              "<Figure size 432x288 with 1 Axes>"
            ],
            "image/png": "[encoded data removed]"
          },
          "metadata": {
            "needs_background": "light"
          }
        },
        {
          "output_type": "display_data",
          "data": {
            "text/plain": [
              "<Figure size 432x288 with 1 Axes>"
            ],
            "image/png": "[encoded data removed]"
          },
          "metadata": {
            "needs_background": "light"
          }
        }
      ]
    },
    {
      "cell_type": "code",
      "source": [
        "score = model.evaluate(x_test, y_test, verbose=0)\n",
        "print(\"Loss: \" + str(score[0]))\n",
        "print(\"Accuracy: \" + str(score[1]*100) + \"%\")"
      ],
      "metadata": {
        "colab": {
          "base_uri": "https://localhost:8080/"
        },
        "id": "8wqbndpk44jI",
        "outputId": "4115b506-adb1-45bf-de97-daad10fc82b2"
      },
      "execution_count": 40,
      "outputs": [
        {
          "output_type": "stream",
          "name": "stdout",
          "text": [
            "Loss: 0.2693348824977875\n",
            "Accuracy: 93.65588426589966%\n"
          ]
        }
      ]
    },
    {
      "cell_type": "code",
      "source": [
        "# Predicting \n",
        "predicition=model.predict(x_test)[0]\n",
        "score=np.round(max(predicition),2)\n",
        "pred=y_test[np.argmax(predicition)]\n",
        "print(f\"True : {y_test} \\n Prediction: {pred} \\n Score {score}\")"
      ],
      "metadata": {
        "colab": {
          "base_uri": "https://localhost:8080/"
        },
        "id": "VnStdi706yml",
        "outputId": "1470b81c-a19f-4bfa-bbca-b04862b0cc5e"
      },
      "execution_count": 41,
      "outputs": [
        {
          "output_type": "stream",
          "name": "stdout",
          "text": [
            "225/225 [==============================] - 1s 2ms/step\n",
            "True : [[0 0 0 ... 0 0 0]\n",
            " [0 0 0 ... 0 0 0]\n",
            " [0 0 0 ... 0 0 0]\n",
            " ...\n",
            " [0 0 1 ... 0 0 0]\n",
            " [0 0 0 ... 0 0 0]\n",
            " [0 0 1 ... 0 0 0]] \n",
            " Prediction: [0 0 0 0 0 0 0 0 0 1 0 0 0 0 0 0 0 0 0 0 0 0 0 0] \n",
            " Score 1.0\n"
          ]
        }
      ]
    },
    {
      "cell_type": "code",
      "source": [
        "df_test=pd.read_csv('/content/sign_mnist_test.csv')\n",
        "y_test = df_test['label']\n",
        "df_test.drop(['label'], axis=1, inplace=True)\n",
        "x_test = df_test.values.reshape(df_test.shape[0], 28,28,1)"
      ],
      "metadata": {
        "id": "2Q7hwZK4x2Zt"
      },
      "execution_count": 46,
      "outputs": []
    },
    {
      "cell_type": "code",
      "source": [
        "# Predicting \n",
        "predicition=model.predict(x_test)[0]\n",
        "score=np.round(max(predicition),2)\n",
        "pred=y_test[np.argmax(predicition)]\n",
        "print(f\"True : {y_test} \\n Prediction: {pred} \\n Score {score}\")"
      ],
      "metadata": {
        "colab": {
          "base_uri": "https://localhost:8080/"
        },
        "id": "WcjJ2MRlysRO",
        "outputId": "7459bde3-1d69-4803-a338-55af67530d18"
      },
      "execution_count": 48,
      "outputs": [
        {
          "output_type": "stream",
          "name": "stdout",
          "text": [
            "225/225 [==============================] - 1s 2ms/step\n",
            "True : 0        6\n",
            "1        5\n",
            "2       10\n",
            "3        0\n",
            "4        3\n",
            "        ..\n",
            "7167     1\n",
            "7168    12\n",
            "7169     2\n",
            "7170     4\n",
            "7171     2\n",
            "Name: label, Length: 7172, dtype: int64 \n",
            " Prediction: 12 \n",
            " Score 1.0\n"
          ]
        }
      ]
    }
  ]
}