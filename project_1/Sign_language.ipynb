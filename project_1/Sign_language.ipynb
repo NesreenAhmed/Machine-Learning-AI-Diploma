{
  "nbformat": 4,
  "nbformat_minor": 0,
  "metadata": {
    "colab": {
      "provenance": []
    },
    "kernelspec": {
      "name": "python3",
      "display_name": "Python 3"
    },
    "language_info": {
      "name": "python"
    },
    "accelerator": "GPU",
    "gpuClass": "standard"
  },
  "cells": [
    {
      "cell_type": "markdown",
      "source": [
        "# Setup\n",
        "### Importing the libraries"
      ],
      "metadata": {
        "id": "sSR0T0EzI_DC"
      }
    },
    {
      "cell_type": "code",
      "execution_count": 1,
      "metadata": {
        "id": "QtJMdV-r2apz"
      },
      "outputs": [],
      "source": [
        "import matplotlib.pyplot as plt\n",
        "import numpy as np\n",
        "from sklearn.metrics import confusion_matrix\n",
        "from functools import partial\n",
        "import pandas as pd\n",
        "import os"
      ]
    },
    {
      "cell_type": "markdown",
      "source": [
        "## Installing the Dataset"
      ],
      "metadata": {
        "id": "oNKbypLhJe43"
      }
    },
    {
      "cell_type": "markdown",
      "source": [
        "Install the kaggle python library\n",
        "\n"
      ],
      "metadata": {
        "id": "7PRypknpKNkL"
      }
    },
    {
      "cell_type": "code",
      "source": [
        "! pip install kaggle"
      ],
      "metadata": {
        "colab": {
          "base_uri": "https://localhost:8080/"
        },
        "id": "EGVvNZew2p5z",
        "outputId": "d63bd7cf-f3de-4491-ea69-5b2f06e05e50"
      },
      "execution_count": 2,
      "outputs": [
        {
          "output_type": "stream",
          "name": "stdout",
          "text": [
            "Looking in indexes: https://pypi.org/simple, https://us-python.pkg.dev/colab-wheels/public/simple/\n",
            "Requirement already satisfied: kaggle in /usr/local/lib/python3.8/dist-packages (1.5.12)\n",
            "Requirement already satisfied: requests in /usr/local/lib/python3.8/dist-packages (from kaggle) (2.23.0)\n",
            "Requirement already satisfied: python-slugify in /usr/local/lib/python3.8/dist-packages (from kaggle) (7.0.0)\n",
            "Requirement already satisfied: six>=1.10 in /usr/local/lib/python3.8/dist-packages (from kaggle) (1.15.0)\n",
            "Requirement already satisfied: urllib3 in /usr/local/lib/python3.8/dist-packages (from kaggle) (1.24.3)\n",
            "Requirement already satisfied: tqdm in /usr/local/lib/python3.8/dist-packages (from kaggle) (4.64.1)\n",
            "Requirement already satisfied: certifi in /usr/local/lib/python3.8/dist-packages (from kaggle) (2022.9.24)\n",
            "Requirement already satisfied: python-dateutil in /usr/local/lib/python3.8/dist-packages (from kaggle) (2.8.2)\n",
            "Requirement already satisfied: text-unidecode>=1.3 in /usr/local/lib/python3.8/dist-packages (from python-slugify->kaggle) (1.3)\n",
            "Requirement already satisfied: chardet<4,>=3.0.2 in /usr/local/lib/python3.8/dist-packages (from requests->kaggle) (3.0.4)\n",
            "Requirement already satisfied: idna<3,>=2.5 in /usr/local/lib/python3.8/dist-packages (from requests->kaggle) (2.10)\n"
          ]
        }
      ]
    },
    {
      "cell_type": "markdown",
      "source": [
        "Make a directory for kaggle at the temporary instance location on Colab drive.\n",
        "\n",
        "Download your kaggle API key (.json file). You can do this by going to your kaggle account page and clicking Create new API token under the API section."
      ],
      "metadata": {
        "id": "h0a5woWiKTdu"
      }
    },
    {
      "cell_type": "code",
      "source": [
        "! mkdir ~/.kaggle"
      ],
      "metadata": {
        "id": "TLvFk_aY2uR1",
        "colab": {
          "base_uri": "https://localhost:8080/"
        },
        "outputId": "40a9b978-dad6-41fb-abc2-ad08b35b1556"
      },
      "execution_count": 3,
      "outputs": [
        {
          "output_type": "stream",
          "name": "stdout",
          "text": [
            "mkdir: cannot create directory ‘/root/.kaggle’: File exists\n"
          ]
        }
      ]
    },
    {
      "cell_type": "markdown",
      "source": [
        "API token"
      ],
      "metadata": {
        "id": "BU6oy6VXLOSV"
      }
    },
    {
      "cell_type": "code",
      "source": [
        "!echo '{\"username\":\"nesreenahmed\",\"key\":\"b0dec1a2569ec63bedccf41c2e4bb271\"}' > ~/.kaggle/kaggle.json"
      ],
      "metadata": {
        "id": "VG9eqhZB2zYJ"
      },
      "execution_count": 46,
      "outputs": []
    },
    {
      "cell_type": "markdown",
      "source": [
        "Change the file permissions to read/write to the owner only"
      ],
      "metadata": {
        "id": "esBCCLuRLWDZ"
      }
    },
    {
      "cell_type": "code",
      "source": [
        "! chmod 600 ~/.kaggle/kaggle.json"
      ],
      "metadata": {
        "id": "Ev8MjBTl3D01"
      },
      "execution_count": 5,
      "outputs": []
    },
    {
      "cell_type": "markdown",
      "source": [
        "Download dataset"
      ],
      "metadata": {
        "id": "PB2unW_mLbGF"
      }
    },
    {
      "cell_type": "code",
      "source": [
        "! kaggle datasets download datamunge/sign-language-mnist"
      ],
      "metadata": {
        "colab": {
          "base_uri": "https://localhost:8080/"
        },
        "id": "qGeXON7c4msJ",
        "outputId": "38c47a35-20ba-4f69-de2f-168278cab087"
      },
      "execution_count": 6,
      "outputs": [
        {
          "output_type": "stream",
          "name": "stdout",
          "text": [
            "Downloading sign-language-mnist.zip to /content\n",
            " 96% 60.0M/62.6M [00:02<00:00, 39.7MB/s]\n",
            "100% 62.6M/62.6M [00:02<00:00, 30.3MB/s]\n"
          ]
        }
      ]
    },
    {
      "cell_type": "markdown",
      "source": [
        "Unzip the files "
      ],
      "metadata": {
        "id": "mZJzNOfLLhoc"
      }
    },
    {
      "cell_type": "code",
      "source": [
        "import zipfile"
      ],
      "metadata": {
        "id": "M2JKhF2Z4vZJ"
      },
      "execution_count": 7,
      "outputs": []
    },
    {
      "cell_type": "code",
      "source": [
        "! unzip sign-language-mnist.zip"
      ],
      "metadata": {
        "colab": {
          "base_uri": "https://localhost:8080/"
        },
        "id": "vuYT1v6-4_lX",
        "outputId": "3cb2595c-cb3e-4f6c-8a03-9d2acc25dadd"
      },
      "execution_count": 8,
      "outputs": [
        {
          "output_type": "stream",
          "name": "stdout",
          "text": [
            "Archive:  sign-language-mnist.zip\n",
            "  inflating: amer_sign2.png          \n",
            "  inflating: amer_sign3.png          \n",
            "  inflating: american_sign_language.PNG  \n",
            "  inflating: sign_mnist_test.csv     \n",
            "  inflating: sign_mnist_test/sign_mnist_test.csv  \n",
            "  inflating: sign_mnist_train.csv    \n",
            "  inflating: sign_mnist_train/sign_mnist_train.csv  \n"
          ]
        }
      ]
    },
    {
      "cell_type": "markdown",
      "source": [
        "Reading the csv files"
      ],
      "metadata": {
        "id": "WgEk6-20LvhE"
      }
    },
    {
      "cell_type": "code",
      "source": [
        "train_df=pd.read_csv('/content/sign_mnist_train.csv')"
      ],
      "metadata": {
        "id": "mIl87P4F5FsG"
      },
      "execution_count": 9,
      "outputs": []
    },
    {
      "cell_type": "code",
      "source": [
        "test_df=pd.read_csv('/content/sign_mnist_test.csv')"
      ],
      "metadata": {
        "id": "SMWCpNR85aOz"
      },
      "execution_count": 10,
      "outputs": []
    },
    {
      "cell_type": "markdown",
      "source": [
        "## Take a Quick Look at the Data Structure"
      ],
      "metadata": {
        "id": "0IRrVIhsMGbQ"
      }
    },
    {
      "cell_type": "code",
      "source": [
        "train_df.head()"
      ],
      "metadata": {
        "id": "k5tIIWoa5fDn",
        "colab": {
          "base_uri": "https://localhost:8080/",
          "height": 235
        },
        "outputId": "8ac5588e-3afb-4b79-ce49-64a99edab1fe"
      },
      "execution_count": 11,
      "outputs": [
        {
          "output_type": "execute_result",
          "data": {
            "text/plain": [
              "   label  pixel1  pixel2  pixel3  pixel4  pixel5  pixel6  pixel7  pixel8  \\\n",
              "0      3     107     118     127     134     139     143     146     150   \n",
              "1      6     155     157     156     156     156     157     156     158   \n",
              "2      2     187     188     188     187     187     186     187     188   \n",
              "3      2     211     211     212     212     211     210     211     210   \n",
              "4     13     164     167     170     172     176     179     180     184   \n",
              "\n",
              "   pixel9  ...  pixel775  pixel776  pixel777  pixel778  pixel779  pixel780  \\\n",
              "0     153  ...       207       207       207       207       206       206   \n",
              "1     158  ...        69       149       128        87        94       163   \n",
              "2     187  ...       202       201       200       199       198       199   \n",
              "3     210  ...       235       234       233       231       230       226   \n",
              "4     185  ...        92       105       105       108       133       163   \n",
              "\n",
              "   pixel781  pixel782  pixel783  pixel784  \n",
              "0       206       204       203       202  \n",
              "1       175       103       135       149  \n",
              "2       198       195       194       195  \n",
              "3       225       222       229       163  \n",
              "4       157       163       164       179  \n",
              "\n",
              "[5 rows x 785 columns]"
            ],
            "text/html": [
              "\n",
              "  <div id=\"df-fedb8927-18d4-415c-8087-68ab6a6cf9a1\">\n",
              "    <div class=\"colab-df-container\">\n",
              "      <div>\n",
              "<style scoped>\n",
              "    .dataframe tbody tr th:only-of-type {\n",
              "        vertical-align: middle;\n",
              "    }\n",
              "\n",
              "    .dataframe tbody tr th {\n",
              "        vertical-align: top;\n",
              "    }\n",
              "\n",
              "    .dataframe thead th {\n",
              "        text-align: right;\n",
              "    }\n",
              "</style>\n",
              "<table border=\"1\" class=\"dataframe\">\n",
              "  <thead>\n",
              "    <tr style=\"text-align: right;\">\n",
              "      <th></th>\n",
              "      <th>label</th>\n",
              "      <th>pixel1</th>\n",
              "      <th>pixel2</th>\n",
              "      <th>pixel3</th>\n",
              "      <th>pixel4</th>\n",
              "      <th>pixel5</th>\n",
              "      <th>pixel6</th>\n",
              "      <th>pixel7</th>\n",
              "      <th>pixel8</th>\n",
              "      <th>pixel9</th>\n",
              "      <th>...</th>\n",
              "      <th>pixel775</th>\n",
              "      <th>pixel776</th>\n",
              "      <th>pixel777</th>\n",
              "      <th>pixel778</th>\n",
              "      <th>pixel779</th>\n",
              "      <th>pixel780</th>\n",
              "      <th>pixel781</th>\n",
              "      <th>pixel782</th>\n",
              "      <th>pixel783</th>\n",
              "      <th>pixel784</th>\n",
              "    </tr>\n",
              "  </thead>\n",
              "  <tbody>\n",
              "    <tr>\n",
              "      <th>0</th>\n",
              "      <td>3</td>\n",
              "      <td>107</td>\n",
              "      <td>118</td>\n",
              "      <td>127</td>\n",
              "      <td>134</td>\n",
              "      <td>139</td>\n",
              "      <td>143</td>\n",
              "      <td>146</td>\n",
              "      <td>150</td>\n",
              "      <td>153</td>\n",
              "      <td>...</td>\n",
              "      <td>207</td>\n",
              "      <td>207</td>\n",
              "      <td>207</td>\n",
              "      <td>207</td>\n",
              "      <td>206</td>\n",
              "      <td>206</td>\n",
              "      <td>206</td>\n",
              "      <td>204</td>\n",
              "      <td>203</td>\n",
              "      <td>202</td>\n",
              "    </tr>\n",
              "    <tr>\n",
              "      <th>1</th>\n",
              "      <td>6</td>\n",
              "      <td>155</td>\n",
              "      <td>157</td>\n",
              "      <td>156</td>\n",
              "      <td>156</td>\n",
              "      <td>156</td>\n",
              "      <td>157</td>\n",
              "      <td>156</td>\n",
              "      <td>158</td>\n",
              "      <td>158</td>\n",
              "      <td>...</td>\n",
              "      <td>69</td>\n",
              "      <td>149</td>\n",
              "      <td>128</td>\n",
              "      <td>87</td>\n",
              "      <td>94</td>\n",
              "      <td>163</td>\n",
              "      <td>175</td>\n",
              "      <td>103</td>\n",
              "      <td>135</td>\n",
              "      <td>149</td>\n",
              "    </tr>\n",
              "    <tr>\n",
              "      <th>2</th>\n",
              "      <td>2</td>\n",
              "      <td>187</td>\n",
              "      <td>188</td>\n",
              "      <td>188</td>\n",
              "      <td>187</td>\n",
              "      <td>187</td>\n",
              "      <td>186</td>\n",
              "      <td>187</td>\n",
              "      <td>188</td>\n",
              "      <td>187</td>\n",
              "      <td>...</td>\n",
              "      <td>202</td>\n",
              "      <td>201</td>\n",
              "      <td>200</td>\n",
              "      <td>199</td>\n",
              "      <td>198</td>\n",
              "      <td>199</td>\n",
              "      <td>198</td>\n",
              "      <td>195</td>\n",
              "      <td>194</td>\n",
              "      <td>195</td>\n",
              "    </tr>\n",
              "    <tr>\n",
              "      <th>3</th>\n",
              "      <td>2</td>\n",
              "      <td>211</td>\n",
              "      <td>211</td>\n",
              "      <td>212</td>\n",
              "      <td>212</td>\n",
              "      <td>211</td>\n",
              "      <td>210</td>\n",
              "      <td>211</td>\n",
              "      <td>210</td>\n",
              "      <td>210</td>\n",
              "      <td>...</td>\n",
              "      <td>235</td>\n",
              "      <td>234</td>\n",
              "      <td>233</td>\n",
              "      <td>231</td>\n",
              "      <td>230</td>\n",
              "      <td>226</td>\n",
              "      <td>225</td>\n",
              "      <td>222</td>\n",
              "      <td>229</td>\n",
              "      <td>163</td>\n",
              "    </tr>\n",
              "    <tr>\n",
              "      <th>4</th>\n",
              "      <td>13</td>\n",
              "      <td>164</td>\n",
              "      <td>167</td>\n",
              "      <td>170</td>\n",
              "      <td>172</td>\n",
              "      <td>176</td>\n",
              "      <td>179</td>\n",
              "      <td>180</td>\n",
              "      <td>184</td>\n",
              "      <td>185</td>\n",
              "      <td>...</td>\n",
              "      <td>92</td>\n",
              "      <td>105</td>\n",
              "      <td>105</td>\n",
              "      <td>108</td>\n",
              "      <td>133</td>\n",
              "      <td>163</td>\n",
              "      <td>157</td>\n",
              "      <td>163</td>\n",
              "      <td>164</td>\n",
              "      <td>179</td>\n",
              "    </tr>\n",
              "  </tbody>\n",
              "</table>\n",
              "<p>5 rows × 785 columns</p>\n",
              "</div>\n",
              "      <button class=\"colab-df-convert\" onclick=\"convertToInteractive('df-fedb8927-18d4-415c-8087-68ab6a6cf9a1')\"\n",
              "              title=\"Convert this dataframe to an interactive table.\"\n",
              "              style=\"display:none;\">\n",
              "        \n",
              "  <svg xmlns=\"http://www.w3.org/2000/svg\" height=\"24px\"viewBox=\"0 0 24 24\"\n",
              "       width=\"24px\">\n",
              "    <path d=\"M0 0h24v24H0V0z\" fill=\"none\"/>\n",
              "    <path d=\"M18.56 5.44l.94 2.06.94-2.06 2.06-.94-2.06-.94-.94-2.06-.94 2.06-2.06.94zm-11 1L8.5 8.5l.94-2.06 2.06-.94-2.06-.94L8.5 2.5l-.94 2.06-2.06.94zm10 10l.94 2.06.94-2.06 2.06-.94-2.06-.94-.94-2.06-.94 2.06-2.06.94z\"/><path d=\"M17.41 7.96l-1.37-1.37c-.4-.4-.92-.59-1.43-.59-.52 0-1.04.2-1.43.59L10.3 9.45l-7.72 7.72c-.78.78-.78 2.05 0 2.83L4 21.41c.39.39.9.59 1.41.59.51 0 1.02-.2 1.41-.59l7.78-7.78 2.81-2.81c.8-.78.8-2.07 0-2.86zM5.41 20L4 18.59l7.72-7.72 1.47 1.35L5.41 20z\"/>\n",
              "  </svg>\n",
              "      </button>\n",
              "      \n",
              "  <style>\n",
              "    .colab-df-container {\n",
              "      display:flex;\n",
              "      flex-wrap:wrap;\n",
              "      gap: 12px;\n",
              "    }\n",
              "\n",
              "    .colab-df-convert {\n",
              "      background-color: #E8F0FE;\n",
              "      border: none;\n",
              "      border-radius: 50%;\n",
              "      cursor: pointer;\n",
              "      display: none;\n",
              "      fill: #1967D2;\n",
              "      height: 32px;\n",
              "      padding: 0 0 0 0;\n",
              "      width: 32px;\n",
              "    }\n",
              "\n",
              "    .colab-df-convert:hover {\n",
              "      background-color: #E2EBFA;\n",
              "      box-shadow: 0px 1px 2px rgba(60, 64, 67, 0.3), 0px 1px 3px 1px rgba(60, 64, 67, 0.15);\n",
              "      fill: #174EA6;\n",
              "    }\n",
              "\n",
              "    [theme=dark] .colab-df-convert {\n",
              "      background-color: #3B4455;\n",
              "      fill: #D2E3FC;\n",
              "    }\n",
              "\n",
              "    [theme=dark] .colab-df-convert:hover {\n",
              "      background-color: #434B5C;\n",
              "      box-shadow: 0px 1px 3px 1px rgba(0, 0, 0, 0.15);\n",
              "      filter: drop-shadow(0px 1px 2px rgba(0, 0, 0, 0.3));\n",
              "      fill: #FFFFFF;\n",
              "    }\n",
              "  </style>\n",
              "\n",
              "      <script>\n",
              "        const buttonEl =\n",
              "          document.querySelector('#df-fedb8927-18d4-415c-8087-68ab6a6cf9a1 button.colab-df-convert');\n",
              "        buttonEl.style.display =\n",
              "          google.colab.kernel.accessAllowed ? 'block' : 'none';\n",
              "\n",
              "        async function convertToInteractive(key) {\n",
              "          const element = document.querySelector('#df-fedb8927-18d4-415c-8087-68ab6a6cf9a1');\n",
              "          const dataTable =\n",
              "            await google.colab.kernel.invokeFunction('convertToInteractive',\n",
              "                                                     [key], {});\n",
              "          if (!dataTable) return;\n",
              "\n",
              "          const docLinkHtml = 'Like what you see? Visit the ' +\n",
              "            '<a target=\"_blank\" href=https://colab.research.google.com/notebooks/data_table.ipynb>data table notebook</a>'\n",
              "            + ' to learn more about interactive tables.';\n",
              "          element.innerHTML = '';\n",
              "          dataTable['output_type'] = 'display_data';\n",
              "          await google.colab.output.renderOutput(dataTable, element);\n",
              "          const docLink = document.createElement('div');\n",
              "          docLink.innerHTML = docLinkHtml;\n",
              "          element.appendChild(docLink);\n",
              "        }\n",
              "      </script>\n",
              "    </div>\n",
              "  </div>\n",
              "  "
            ]
          },
          "metadata": {},
          "execution_count": 11
        }
      ]
    },
    {
      "cell_type": "code",
      "source": [
        "train_df.info()"
      ],
      "metadata": {
        "id": "WJe6o_265hvg",
        "colab": {
          "base_uri": "https://localhost:8080/"
        },
        "outputId": "627a3055-a174-40c3-c01b-5de5ea49f812"
      },
      "execution_count": 12,
      "outputs": [
        {
          "output_type": "stream",
          "name": "stdout",
          "text": [
            "<class 'pandas.core.frame.DataFrame'>\n",
            "RangeIndex: 27455 entries, 0 to 27454\n",
            "Columns: 785 entries, label to pixel784\n",
            "dtypes: int64(785)\n",
            "memory usage: 164.4 MB\n"
          ]
        }
      ]
    },
    {
      "cell_type": "markdown",
      "source": [
        "## Checking for Missing Data"
      ],
      "metadata": {
        "id": "K-Cyg9A16RYe"
      }
    },
    {
      "cell_type": "code",
      "source": [
        "#summing the number of null values in the training set for each column\n",
        "print(sum(train_df.isnull().sum()))\n",
        "\n",
        "#summing the number of null values in the test set for each column\n",
        "print(sum(test_df.isnull().sum()))"
      ],
      "metadata": {
        "id": "jLJh_58t6UK4",
        "colab": {
          "base_uri": "https://localhost:8080/"
        },
        "outputId": "6fa9c590-59c7-4968-9b4f-7f61f7d72460"
      },
      "execution_count": 13,
      "outputs": [
        {
          "output_type": "stream",
          "name": "stdout",
          "text": [
            "0\n",
            "0\n"
          ]
        }
      ]
    },
    {
      "cell_type": "markdown",
      "source": [
        "## splitting the data into x-train and y-train\n",
        "\n",
        "y-train is the labels because the aim of this project is to classify the picture of sign language\n",
        "\n",
        "x-train is the pixels of the picture"
      ],
      "metadata": {
        "id": "fJfpP1uHMNgu"
      }
    },
    {
      "cell_type": "code",
      "source": [
        "x_train = train_df.drop(labels = [\"label\"], axis = 1)\n",
        "y_train = train_df[\"label\"]\n",
        "\n",
        "x_test = test_df.drop(labels = [\"label\"], axis = 1)\n",
        "y_test = test_df[\"label\"]"
      ],
      "metadata": {
        "id": "1vfkCnhCfalF"
      },
      "execution_count": 14,
      "outputs": []
    },
    {
      "cell_type": "markdown",
      "source": [
        "## Showing a sample of the pictures  "
      ],
      "metadata": {
        "id": "-vOkT1yKNdgf"
      }
    },
    {
      "cell_type": "code",
      "source": [
        "#printing the train data\n",
        "k = 0\n",
        "row, col = 3, 3\n",
        "fig, ax = plt.subplots(nrows=row, ncols=col, figsize=(16,20),)\n",
        "for i in range(row):\n",
        "    for j in range(col):\n",
        "        img = x_train.iloc[k].to_numpy()\n",
        "        img = img.reshape((28,28))\n",
        "        ax[i,j].imshow(img,cmap = \"gray\")\n",
        "        ax[i,j].axis(\"off\")\n",
        "        k += 1\n",
        "plt.show()"
      ],
      "metadata": {
        "id": "lzLD_Dw-uz5p",
        "colab": {
          "base_uri": "https://localhost:8080/",
          "height": 1000
        },
        "outputId": "658f8499-d2b9-4d12-faa3-1836abc63d14"
      },
      "execution_count": 15,
      "outputs": [
        {
          "output_type": "display_data",
          "data": {
            "text/plain": [
              "<Figure size 1152x1440 with 9 Axes>"
            ],
            "image/png": "[encoded data removed]"
          },
          "metadata": {
            "needs_background": "light"
          }
        }
      ]
    },
    {
      "cell_type": "code",
      "source": [
        "#printing the test data\n",
        "k = 0\n",
        "row, col = 3, 3\n",
        "fig, ax = plt.subplots(nrows=row, ncols=col, figsize=(16,20),)\n",
        "for i in range(row):\n",
        "    for j in range(col):\n",
        "        img = x_test.iloc[k].to_numpy()\n",
        "        img = img.reshape((28,28))\n",
        "        ax[i,j].imshow(img,cmap = \"gray\")\n",
        "        ax[i,j].axis(\"off\")\n",
        "        k += 1\n",
        "plt.show()"
      ],
      "metadata": {
        "colab": {
          "base_uri": "https://localhost:8080/",
          "height": 1000
        },
        "id": "_dXLSCCj6Ng3",
        "outputId": "3978b249-0ad6-4dd5-b6d3-167d43a29800"
      },
      "execution_count": 16,
      "outputs": [
        {
          "output_type": "display_data",
          "data": {
            "text/plain": [
              "<Figure size 1152x1440 with 9 Axes>"
            ],
            "image/png": "[encoded data removed]"
          },
          "metadata": {
            "needs_background": "light"
          }
        }
      ]
    },
    {
      "cell_type": "markdown",
      "source": [
        "## Processing the Images"
      ],
      "metadata": {
        "id": "BiYiDLX46mdS"
      }
    },
    {
      "cell_type": "markdown",
      "source": [
        "To reshape the x train into 28*28=784 because we have 784 Pixels"
      ],
      "metadata": {
        "id": "pnxZqjMuJbcg"
      }
    },
    {
      "cell_type": "code",
      "source": [
        "x_train = x_train.values\n",
        "x_train=np.array([np.reshape(i,(28,28)) for i in x_train])\n",
        "x_train=np.array([i.flatten() for i in x_train])\n",
        "x_test = x_test.values\n",
        "x_test=np.array([np.reshape(i,(28,28)) for i in x_test])\n",
        "x_test=np.array([i.flatten() for i in x_test])\n",
        "print(x_train.shape)\n",
        "print(x_test.shape)"
      ],
      "metadata": {
        "id": "pJ1p314Pt1T-",
        "colab": {
          "base_uri": "https://localhost:8080/"
        },
        "outputId": "1d5afd53-f703-498c-edff-8d8788129a31"
      },
      "execution_count": 17,
      "outputs": [
        {
          "output_type": "stream",
          "name": "stdout",
          "text": [
            "(27455, 784)\n",
            "(7172, 784)\n"
          ]
        }
      ]
    },
    {
      "cell_type": "markdown",
      "source": [
        "## Encoding\n",
        "to change y-train(labels) to zeros and ones to be easier in classification\n"
      ],
      "metadata": {
        "id": "lPiSiICBNwfz"
      }
    },
    {
      "cell_type": "code",
      "source": [
        "from sklearn.preprocessing import LabelBinarizer\n",
        "label_binrizer = LabelBinarizer()\n",
        "y_train= label_binrizer.fit_transform(y_train)\n",
        "y_test= label_binrizer.fit_transform(y_test)\n"
      ],
      "metadata": {
        "id": "nKs3Q4asgn4M"
      },
      "execution_count": 18,
      "outputs": []
    },
    {
      "cell_type": "code",
      "source": [
        "y_train"
      ],
      "metadata": {
        "id": "g2Pri-HsjxkV",
        "colab": {
          "base_uri": "https://localhost:8080/"
        },
        "outputId": "643a0d69-6f21-4104-af9b-88da3e8b5f3a"
      },
      "execution_count": 19,
      "outputs": [
        {
          "output_type": "execute_result",
          "data": {
            "text/plain": [
              "array([[0, 0, 0, ..., 0, 0, 0],\n",
              "       [0, 0, 0, ..., 0, 0, 0],\n",
              "       [0, 0, 1, ..., 0, 0, 0],\n",
              "       ...,\n",
              "       [0, 0, 0, ..., 0, 0, 0],\n",
              "       [0, 0, 0, ..., 0, 0, 0],\n",
              "       [0, 0, 0, ..., 0, 1, 0]])"
            ]
          },
          "metadata": {},
          "execution_count": 19
        }
      ]
    },
    {
      "cell_type": "code",
      "source": [
        "y_test"
      ],
      "metadata": {
        "id": "TkU2-B6eLgsB",
        "colab": {
          "base_uri": "https://localhost:8080/"
        },
        "outputId": "f2ee6cbf-085a-4c82-d902-c09f461a4b03"
      },
      "execution_count": 20,
      "outputs": [
        {
          "output_type": "execute_result",
          "data": {
            "text/plain": [
              "array([[0, 0, 0, ..., 0, 0, 0],\n",
              "       [0, 0, 0, ..., 0, 0, 0],\n",
              "       [0, 0, 0, ..., 0, 0, 0],\n",
              "       ...,\n",
              "       [0, 0, 1, ..., 0, 0, 0],\n",
              "       [0, 0, 0, ..., 0, 0, 0],\n",
              "       [0, 0, 1, ..., 0, 0, 0]])"
            ]
          },
          "metadata": {},
          "execution_count": 20
        }
      ]
    },
    {
      "cell_type": "markdown",
      "source": [
        "## Spliting Our Training Data\n"
      ],
      "metadata": {
        "id": "81m08mXSuUjJ"
      }
    },
    {
      "cell_type": "code",
      "source": [
        "#spliting training images into the images we will use for training the model and validating the model\n",
        "from sklearn.model_selection import train_test_split\n",
        "x_train, x_val, y_train, y_val = train_test_split(x_train, y_train, test_size = 0.3, random_state=0)"
      ],
      "metadata": {
        "id": "7_O21j4xuX5y"
      },
      "execution_count": 21,
      "outputs": []
    },
    {
      "cell_type": "code",
      "source": [
        "#showing the shapes of our train, validate, and test images\n",
        "print(x_train.shape)\n",
        "print(y_train.shape)\n",
        "print(x_val.shape)\n",
        "print(y_val.shape)\n",
        "print(x_test.shape)\n",
        "print(y_test.shape)"
      ],
      "metadata": {
        "id": "RS-lzuXkukVN",
        "colab": {
          "base_uri": "https://localhost:8080/"
        },
        "outputId": "5994811f-e886-4719-fa5d-88c25d378adf"
      },
      "execution_count": 22,
      "outputs": [
        {
          "output_type": "stream",
          "name": "stdout",
          "text": [
            "(19218, 784)\n",
            "(19218, 24)\n",
            "(8237, 784)\n",
            "(8237, 24)\n",
            "(7172, 784)\n",
            "(7172, 24)\n"
          ]
        }
      ]
    },
    {
      "cell_type": "markdown",
      "source": [
        "## Importing the libraries"
      ],
      "metadata": {
        "id": "4VImUYLJQGv2"
      }
    },
    {
      "cell_type": "code",
      "source": [
        "from tensorflow.keras.utils import to_categorical\n",
        "from tensorflow.keras.models import Sequential\n",
        "from tensorflow.keras.layers import Conv2D\n",
        "from tensorflow.keras.layers import MaxPooling2D\n",
        "from tensorflow.keras.layers import Dense\n",
        "from tensorflow.keras.layers import Flatten\n",
        "from tensorflow.keras.layers import Dropout\n",
        "from keras.layers import BatchNormalization"
      ],
      "metadata": {
        "id": "aI9yekHN_fSS"
      },
      "execution_count": 23,
      "outputs": []
    },
    {
      "cell_type": "code",
      "source": [
        "#converting the range of the pixel data from 0-255 to 0-1\n",
        "x_train = x_train / 255.0\n",
        "x_val = x_val / 255.0\n",
        "x_test = x_test / 255.0"
      ],
      "metadata": {
        "id": "G5bHZhqOg-WE"
      },
      "execution_count": 24,
      "outputs": []
    },
    {
      "cell_type": "code",
      "source": [
        "# reshaping the data to be ready to feed it to the model\n",
        "x_train = x_train.reshape(x_train.shape[0], 28, 28, 1)\n",
        "x_val = x_val.reshape(x_val.shape[0], 28, 28, 1)\n",
        "x_test = x_test.reshape(x_test.shape[0], 28, 28, 1)"
      ],
      "metadata": {
        "id": "Bh8FBEd-QsuI"
      },
      "execution_count": 26,
      "outputs": []
    },
    {
      "cell_type": "code",
      "source": [
        "#printing the shapes\n",
        "print(x_train.shape)\n",
        "print(y_train.shape)\n",
        "print(x_val.shape)\n",
        "print(y_val.shape)"
      ],
      "metadata": {
        "colab": {
          "base_uri": "https://localhost:8080/"
        },
        "id": "SMfqrFOBGzsq",
        "outputId": "5e0a7911-5bab-42f5-b05f-37bbf5e0a62e"
      },
      "execution_count": 27,
      "outputs": [
        {
          "output_type": "stream",
          "name": "stdout",
          "text": [
            "(19218, 28, 28, 1)\n",
            "(19218, 24)\n",
            "(8237, 28, 28, 1)\n",
            "(8237, 24)\n"
          ]
        }
      ]
    },
    {
      "cell_type": "markdown",
      "source": [
        "## Building the model"
      ],
      "metadata": {
        "id": "IKBYhVIUQuEb"
      }
    },
    {
      "cell_type": "markdown",
      "source": [
        "The Sequential⇒creating deep learning models where an instance of the Sequential class is created and model layers are created and added to it.\n",
        "\n",
        "conv layer⇒ consist of set of learnable filters\n",
        "\n",
        "Batch normalization layer⇒ is a layer that allows every layer of the network to do learning more independently and avoid overfitting of the model.\n",
        "\n",
        "MaxPooling2D layer⇒ Downsamples the input dimensions by taking the maximum value over an input window for each channel of the input. The window is shifted by strides along each dimension.\n",
        "\n",
        "Dropout layer⇒ It drop some of the unwanted parameters to help avoid overfitting of the model.\n",
        "\n",
        "Flatten layer⇒ converting the data into a 1-dimensional array for inputting. We flatten the output of the convolutional layers to create a single long feature vector. And it is connected to the final classification model, which is called a fully-connected layer.\n",
        "\n",
        "Relu layer⇒ In this layer we remove every negative value from the filtered image and replace it with zero\n",
        "\n",
        "Softmax layer⇒ is a generalization of the Logistic Function, and it makes sure that our prediction add up to 1 to Classify.\n",
        "\n",
        "categorical crossentropy⇒ Used as a loss function for multi-class classification model where there are two or more output labels\n",
        "\n"
      ],
      "metadata": {
        "id": "5khLojeyX0GZ"
      }
    },
    {
      "cell_type": "markdown",
      "source": [
        "### Simple model "
      ],
      "metadata": {
        "id": "2Yg3ybvGGlSs"
      }
    },
    {
      "cell_type": "code",
      "source": [
        "model=Sequential()\n",
        "model.add(Conv2D(32,(3,3),activation='relu',input_shape=(28,28,1)))\n",
        "model.add(Conv2D(32,(3,3),activation='relu'))\n",
        "\n",
        "model.add(Conv2D(64,(3,3),activation='relu'))\n",
        "\n",
        "model.add(Flatten())\n",
        "model.add(Dropout(0.25))\n",
        "model.add(Dense(32,activation='relu'))\n",
        "model.add(Dense(24,activation='softmax'))\n",
        "\n",
        "model.compile(optimizer='adam',loss='categorical_crossentropy',metrics=['accuracy'])"
      ],
      "metadata": {
        "id": "eXzovU5U7RS8"
      },
      "execution_count": 28,
      "outputs": []
    },
    {
      "cell_type": "code",
      "source": [
        "model.summary()"
      ],
      "metadata": {
        "colab": {
          "base_uri": "https://localhost:8080/"
        },
        "id": "ZAGlAN1d7SHD",
        "outputId": "186fade8-4a29-4325-e041-4faa261e80ca"
      },
      "execution_count": 29,
      "outputs": [
        {
          "output_type": "stream",
          "name": "stdout",
          "text": [
            "Model: \"sequential\"\n",
            "_________________________________________________________________\n",
            " Layer (type)                Output Shape              Param #   \n",
            "=================================================================\n",
            " conv2d (Conv2D)             (None, 26, 26, 32)        320       \n",
            "                                                                 \n",
            " conv2d_1 (Conv2D)           (None, 24, 24, 32)        9248      \n",
            "                                                                 \n",
            " conv2d_2 (Conv2D)           (None, 22, 22, 64)        18496     \n",
            "                                                                 \n",
            " flatten (Flatten)           (None, 30976)             0         \n",
            "                                                                 \n",
            " dropout (Dropout)           (None, 30976)             0         \n",
            "                                                                 \n",
            " dense (Dense)               (None, 32)                991264    \n",
            "                                                                 \n",
            " dense_1 (Dense)             (None, 24)                792       \n",
            "                                                                 \n",
            "=================================================================\n",
            "Total params: 1,020,120\n",
            "Trainable params: 1,020,120\n",
            "Non-trainable params: 0\n",
            "_________________________________________________________________\n"
          ]
        }
      ]
    },
    {
      "cell_type": "code",
      "source": [
        "history = model.fit(x_train,y_train,validation_data= (x_val,y_val), batch_size = 128, epochs=20 )"
      ],
      "metadata": {
        "colab": {
          "base_uri": "https://localhost:8080/"
        },
        "id": "AIDir6xW7R-K",
        "outputId": "a5ea4d8c-7afb-4d84-a640-e2ff7b7609a9"
      },
      "execution_count": 30,
      "outputs": [
        {
          "metadata": {
            "tags": null
          },
          "name": "stdout",
          "output_type": "stream",
          "text": [
            "Epoch 1/20\n",
            "151/151 [==============================] - 5s 15ms/step - loss: 1.3120 - accuracy: 0.6211 - val_loss: 0.2118 - val_accuracy: 0.9359\n",
            "Epoch 2/20\n",
            "151/151 [==============================] - 2s 13ms/step - loss: 0.0630 - accuracy: 0.9850 - val_loss: 0.0101 - val_accuracy: 0.9996\n",
            "Epoch 3/20\n",
            "151/151 [==============================] - 3s 17ms/step - loss: 0.0040 - accuracy: 0.9999 - val_loss: 0.0014 - val_accuracy: 1.0000\n",
            "Epoch 4/20\n",
            "151/151 [==============================] - 3s 19ms/step - loss: 0.0013 - accuracy: 1.0000 - val_loss: 7.5852e-04 - val_accuracy: 1.0000\n",
            "Epoch 5/20\n",
            "151/151 [==============================] - 3s 18ms/step - loss: 8.0826e-04 - accuracy: 1.0000 - val_loss: 5.2735e-04 - val_accuracy: 1.0000\n",
            "Epoch 6/20\n",
            "151/151 [==============================] - 3s 17ms/step - loss: 4.9852e-04 - accuracy: 1.0000 - val_loss: 3.1096e-04 - val_accuracy: 1.0000\n",
            "Epoch 7/20\n",
            "151/151 [==============================] - 2s 13ms/step - loss: 3.5848e-04 - accuracy: 1.0000 - val_loss: 2.4027e-04 - val_accuracy: 1.0000\n",
            "Epoch 8/20\n",
            "151/151 [==============================] - 2s 13ms/step - loss: 2.9481e-04 - accuracy: 1.0000 - val_loss: 2.2228e-04 - val_accuracy: 1.0000\n",
            "Epoch 9/20\n",
            "151/151 [==============================] - 2s 13ms/step - loss: 0.0797 - accuracy: 0.9761 - val_loss: 0.0036 - val_accuracy: 0.9993\n",
            "Epoch 10/20\n",
            "151/151 [==============================] - 2s 13ms/step - loss: 0.0108 - accuracy: 0.9978 - val_loss: 3.6575e-04 - val_accuracy: 1.0000\n",
            "Epoch 11/20\n",
            "151/151 [==============================] - 2s 13ms/step - loss: 3.2652e-04 - accuracy: 1.0000 - val_loss: 1.5432e-04 - val_accuracy: 1.0000\n",
            "Epoch 12/20\n",
            "151/151 [==============================] - 2s 16ms/step - loss: 1.7775e-04 - accuracy: 1.0000 - val_loss: 1.0039e-04 - val_accuracy: 1.0000\n",
            "Epoch 13/20\n",
            "151/151 [==============================] - 2s 13ms/step - loss: 1.3256e-04 - accuracy: 1.0000 - val_loss: 7.1864e-05 - val_accuracy: 1.0000\n",
            "Epoch 14/20\n",
            "151/151 [==============================] - 2s 13ms/step - loss: 9.6483e-05 - accuracy: 1.0000 - val_loss: 5.4602e-05 - val_accuracy: 1.0000\n",
            "Epoch 15/20\n",
            "151/151 [==============================] - 2s 13ms/step - loss: 7.8636e-05 - accuracy: 1.0000 - val_loss: 4.3949e-05 - val_accuracy: 1.0000\n",
            "Epoch 16/20\n",
            "151/151 [==============================] - 2s 13ms/step - loss: 6.1290e-05 - accuracy: 1.0000 - val_loss: 3.6649e-05 - val_accuracy: 1.0000\n",
            "Epoch 17/20\n",
            "151/151 [==============================] - 2s 13ms/step - loss: 5.1278e-05 - accuracy: 1.0000 - val_loss: 3.0842e-05 - val_accuracy: 1.0000\n",
            "Epoch 18/20\n",
            "151/151 [==============================] - 2s 13ms/step - loss: 4.5471e-05 - accuracy: 1.0000 - val_loss: 2.6438e-05 - val_accuracy: 1.0000\n",
            "Epoch 19/20\n",
            "151/151 [==============================] - 2s 13ms/step - loss: 3.8760e-05 - accuracy: 1.0000 - val_loss: 2.1586e-05 - val_accuracy: 1.0000\n",
            "Epoch 20/20\n",
            "151/151 [==============================] - 2s 13ms/step - loss: 3.6419e-05 - accuracy: 1.0000 - val_loss: 1.9101e-05 - val_accuracy: 1.0000\n"
          ]
        }
      ]
    },
    {
      "cell_type": "markdown",
      "source": [
        "### More complex model"
      ],
      "metadata": {
        "id": "4IjgAkMNGO7_"
      }
    },
    {
      "cell_type": "code",
      "source": [
        "model=Sequential()\n",
        "model.add(Conv2D(32,(3,3),activation='relu',input_shape=(28,28,1)))\n",
        "model.add(Conv2D(32,(3,3),activation='relu'))\n",
        "model.add(BatchNormalization())\n",
        "model.add(MaxPooling2D(2,2))\n",
        "model.add(Dropout(0.25))\n",
        "model.add(Conv2D(64,(3,3),activation='relu'))\n",
        "model.add(Conv2D(64,(3,3),activation='relu'))\n",
        "model.add(BatchNormalization())\n",
        "model.add(MaxPooling2D(2,2))\n",
        "model.add(Dropout(0.25))\n",
        "model.add(Conv2D(128,(3,3),activation='relu'))\n",
        "\n",
        "model.add(BatchNormalization())\n",
        "model.add(MaxPooling2D(2,2))\n",
        "model.add(Dropout(0.25))\n",
        "\n",
        "model.add(BatchNormalization())\n",
        "\n",
        "model.add(Flatten())\n",
        "model.add(Dropout(0.25))\n",
        "model.add(Dense(64,activation='relu'))\n",
        "model.add(Dense(24,activation='softmax'))\n",
        "\n",
        "\n",
        "model.compile(optimizer='adam',loss='categorical_crossentropy',metrics=['accuracy'])"
      ],
      "metadata": {
        "id": "-B1nDP_C-oEO"
      },
      "execution_count": 31,
      "outputs": []
    },
    {
      "cell_type": "code",
      "source": [
        "model.summary()"
      ],
      "metadata": {
        "id": "LRM709qYxW5H",
        "colab": {
          "base_uri": "https://localhost:8080/"
        },
        "outputId": "996a1a5a-4b8f-454d-9556-c75388505705"
      },
      "execution_count": 32,
      "outputs": [
        {
          "output_type": "stream",
          "name": "stdout",
          "text": [
            "Model: \"sequential_1\"\n",
            "_________________________________________________________________\n",
            " Layer (type)                Output Shape              Param #   \n",
            "=================================================================\n",
            " conv2d_3 (Conv2D)           (None, 26, 26, 32)        320       \n",
            "                                                                 \n",
            " conv2d_4 (Conv2D)           (None, 24, 24, 32)        9248      \n",
            "                                                                 \n",
            " batch_normalization (BatchN  (None, 24, 24, 32)       128       \n",
            " ormalization)                                                   \n",
            "                                                                 \n",
            " max_pooling2d (MaxPooling2D  (None, 12, 12, 32)       0         \n",
            " )                                                               \n",
            "                                                                 \n",
            " dropout_1 (Dropout)         (None, 12, 12, 32)        0         \n",
            "                                                                 \n",
            " conv2d_5 (Conv2D)           (None, 10, 10, 64)        18496     \n",
            "                                                                 \n",
            " conv2d_6 (Conv2D)           (None, 8, 8, 64)          36928     \n",
            "                                                                 \n",
            " batch_normalization_1 (Batc  (None, 8, 8, 64)         256       \n",
            " hNormalization)                                                 \n",
            "                                                                 \n",
            " max_pooling2d_1 (MaxPooling  (None, 4, 4, 64)         0         \n",
            " 2D)                                                             \n",
            "                                                                 \n",
            " dropout_2 (Dropout)         (None, 4, 4, 64)          0         \n",
            "                                                                 \n",
            " conv2d_7 (Conv2D)           (None, 2, 2, 128)         73856     \n",
            "                                                                 \n",
            " batch_normalization_2 (Batc  (None, 2, 2, 128)        512       \n",
            " hNormalization)                                                 \n",
            "                                                                 \n",
            " max_pooling2d_2 (MaxPooling  (None, 1, 1, 128)        0         \n",
            " 2D)                                                             \n",
            "                                                                 \n",
            " dropout_3 (Dropout)         (None, 1, 1, 128)         0         \n",
            "                                                                 \n",
            " batch_normalization_3 (Batc  (None, 1, 1, 128)        512       \n",
            " hNormalization)                                                 \n",
            "                                                                 \n",
            " flatten_1 (Flatten)         (None, 128)               0         \n",
            "                                                                 \n",
            " dropout_4 (Dropout)         (None, 128)               0         \n",
            "                                                                 \n",
            " dense_2 (Dense)             (None, 64)                8256      \n",
            "                                                                 \n",
            " dense_3 (Dense)             (None, 24)                1560      \n",
            "                                                                 \n",
            "=================================================================\n",
            "Total params: 150,072\n",
            "Trainable params: 149,368\n",
            "Non-trainable params: 704\n",
            "_________________________________________________________________\n"
          ]
        }
      ]
    },
    {
      "cell_type": "code",
      "source": [
        "history = model.fit(x_train,y_train,validation_data= (x_val,y_val), batch_size = 128, epochs=20 )"
      ],
      "metadata": {
        "id": "AS-2OhGM_hmd",
        "colab": {
          "base_uri": "https://localhost:8080/"
        },
        "outputId": "1de89f75-f49a-4ac9-9277-4e2872f86c61"
      },
      "execution_count": 33,
      "outputs": [
        {
          "output_type": "stream",
          "name": "stdout",
          "text": [
            "Epoch 1/20\n",
            "151/151 [==============================] - 5s 24ms/step - loss: 1.5932 - accuracy: 0.5355 - val_loss: 4.0475 - val_accuracy: 0.0420\n",
            "Epoch 2/20\n",
            "151/151 [==============================] - 3s 17ms/step - loss: 0.3414 - accuracy: 0.9028 - val_loss: 4.0804 - val_accuracy: 0.0420\n",
            "Epoch 3/20\n",
            "151/151 [==============================] - 2s 14ms/step - loss: 0.1241 - accuracy: 0.9687 - val_loss: 1.2348 - val_accuracy: 0.6037\n",
            "Epoch 4/20\n",
            "151/151 [==============================] - 2s 14ms/step - loss: 0.0604 - accuracy: 0.9853 - val_loss: 0.0475 - val_accuracy: 0.9922\n",
            "Epoch 5/20\n",
            "151/151 [==============================] - 2s 12ms/step - loss: 0.0401 - accuracy: 0.9903 - val_loss: 0.0065 - val_accuracy: 0.9996\n",
            "Epoch 6/20\n",
            "151/151 [==============================] - 2s 11ms/step - loss: 0.0301 - accuracy: 0.9924 - val_loss: 0.0014 - val_accuracy: 1.0000\n",
            "Epoch 7/20\n",
            "151/151 [==============================] - 2s 11ms/step - loss: 0.0226 - accuracy: 0.9940 - val_loss: 0.0072 - val_accuracy: 0.9978\n",
            "Epoch 8/20\n",
            "151/151 [==============================] - 2s 10ms/step - loss: 0.0202 - accuracy: 0.9951 - val_loss: 0.0020 - val_accuracy: 0.9998\n",
            "Epoch 9/20\n",
            "151/151 [==============================] - 2s 10ms/step - loss: 0.0171 - accuracy: 0.9950 - val_loss: 3.8191e-04 - val_accuracy: 1.0000\n",
            "Epoch 10/20\n",
            "151/151 [==============================] - 2s 11ms/step - loss: 0.0148 - accuracy: 0.9961 - val_loss: 2.0552e-04 - val_accuracy: 1.0000\n",
            "Epoch 11/20\n",
            "151/151 [==============================] - 2s 11ms/step - loss: 0.0141 - accuracy: 0.9958 - val_loss: 0.0021 - val_accuracy: 0.9995\n",
            "Epoch 12/20\n",
            "151/151 [==============================] - 2s 10ms/step - loss: 0.0165 - accuracy: 0.9956 - val_loss: 4.4083e-04 - val_accuracy: 0.9999\n",
            "Epoch 13/20\n",
            "151/151 [==============================] - 2s 10ms/step - loss: 0.0104 - accuracy: 0.9970 - val_loss: 0.0190 - val_accuracy: 0.9943\n",
            "Epoch 14/20\n",
            "151/151 [==============================] - 2s 10ms/step - loss: 0.0088 - accuracy: 0.9973 - val_loss: 5.3977e-04 - val_accuracy: 0.9999\n",
            "Epoch 15/20\n",
            "151/151 [==============================] - 2s 10ms/step - loss: 0.0057 - accuracy: 0.9986 - val_loss: 0.0011 - val_accuracy: 0.9998\n",
            "Epoch 16/20\n",
            "151/151 [==============================] - 2s 11ms/step - loss: 0.0070 - accuracy: 0.9977 - val_loss: 0.1827 - val_accuracy: 0.9353\n",
            "Epoch 17/20\n",
            "151/151 [==============================] - 2s 11ms/step - loss: 0.0053 - accuracy: 0.9989 - val_loss: 2.1377e-04 - val_accuracy: 1.0000\n",
            "Epoch 18/20\n",
            "151/151 [==============================] - 2s 11ms/step - loss: 0.0218 - accuracy: 0.9927 - val_loss: 0.0014 - val_accuracy: 0.9999\n",
            "Epoch 19/20\n",
            "151/151 [==============================] - 2s 10ms/step - loss: 0.0126 - accuracy: 0.9960 - val_loss: 0.0119 - val_accuracy: 0.9955\n",
            "Epoch 20/20\n",
            "151/151 [==============================] - 2s 14ms/step - loss: 0.0070 - accuracy: 0.9979 - val_loss: 7.9107e-05 - val_accuracy: 1.0000\n"
          ]
        }
      ]
    },
    {
      "cell_type": "markdown",
      "source": [
        "### The model might be complex for this data try to simplify the model"
      ],
      "metadata": {
        "id": "4MlwUA5uMiJz"
      }
    },
    {
      "cell_type": "code",
      "source": [
        "model=Sequential()\n",
        "model.add(Conv2D(32,(3,3),activation='relu',input_shape=(28,28,1)))\n",
        "model.add(Conv2D(32,(3,3),activation='relu'))\n",
        "\n",
        "model.add(MaxPooling2D(2,2))\n",
        "model.add(Dropout(0.25))\n",
        "model.add(Conv2D(64,(3,3),activation='relu'))\n",
        "\n",
        "model.add(MaxPooling2D(2,2))\n",
        "model.add(Dropout(0.25))\n",
        "model.add(Conv2D(128,(3,3),activation='relu'))\n",
        "\n",
        "model.add(Flatten())\n",
        "model.add(Dropout(0.25))\n",
        "model.add(Dense(64,activation='relu'))\n",
        "model.add(Dense(24,activation='softmax'))\n",
        "\n",
        "\n",
        "model.compile(optimizer='adam',loss='categorical_crossentropy',metrics=['accuracy'])"
      ],
      "metadata": {
        "id": "-5Z-S2Qzl4it"
      },
      "execution_count": 34,
      "outputs": []
    },
    {
      "cell_type": "code",
      "source": [
        "model.summary()"
      ],
      "metadata": {
        "id": "u-imRpJcSOuJ",
        "colab": {
          "base_uri": "https://localhost:8080/"
        },
        "outputId": "58ea5e47-439a-42ae-b444-541f3de570fd"
      },
      "execution_count": 35,
      "outputs": [
        {
          "output_type": "stream",
          "name": "stdout",
          "text": [
            "Model: \"sequential_2\"\n",
            "_________________________________________________________________\n",
            " Layer (type)                Output Shape              Param #   \n",
            "=================================================================\n",
            " conv2d_8 (Conv2D)           (None, 26, 26, 32)        320       \n",
            "                                                                 \n",
            " conv2d_9 (Conv2D)           (None, 24, 24, 32)        9248      \n",
            "                                                                 \n",
            " max_pooling2d_3 (MaxPooling  (None, 12, 12, 32)       0         \n",
            " 2D)                                                             \n",
            "                                                                 \n",
            " dropout_5 (Dropout)         (None, 12, 12, 32)        0         \n",
            "                                                                 \n",
            " conv2d_10 (Conv2D)          (None, 10, 10, 64)        18496     \n",
            "                                                                 \n",
            " max_pooling2d_4 (MaxPooling  (None, 5, 5, 64)         0         \n",
            " 2D)                                                             \n",
            "                                                                 \n",
            " dropout_6 (Dropout)         (None, 5, 5, 64)          0         \n",
            "                                                                 \n",
            " conv2d_11 (Conv2D)          (None, 3, 3, 128)         73856     \n",
            "                                                                 \n",
            " flatten_2 (Flatten)         (None, 1152)              0         \n",
            "                                                                 \n",
            " dropout_7 (Dropout)         (None, 1152)              0         \n",
            "                                                                 \n",
            " dense_4 (Dense)             (None, 64)                73792     \n",
            "                                                                 \n",
            " dense_5 (Dense)             (None, 24)                1560      \n",
            "                                                                 \n",
            "=================================================================\n",
            "Total params: 177,272\n",
            "Trainable params: 177,272\n",
            "Non-trainable params: 0\n",
            "_________________________________________________________________\n"
          ]
        }
      ]
    },
    {
      "cell_type": "code",
      "source": [
        "history = model.fit(x_train,y_train,validation_data= (x_val,y_val), batch_size = 128, epochs=20 )"
      ],
      "metadata": {
        "id": "jXRWOuHVSRo8",
        "colab": {
          "base_uri": "https://localhost:8080/"
        },
        "outputId": "60b7a381-35a8-40e5-ecb3-4c5c7e623301"
      },
      "execution_count": 36,
      "outputs": [
        {
          "output_type": "stream",
          "name": "stdout",
          "text": [
            "Epoch 1/20\n",
            "151/151 [==============================] - 2s 12ms/step - loss: 2.3020 - accuracy: 0.2901 - val_loss: 0.8931 - val_accuracy: 0.7164\n",
            "Epoch 2/20\n",
            "151/151 [==============================] - 1s 10ms/step - loss: 0.5840 - accuracy: 0.8058 - val_loss: 0.2057 - val_accuracy: 0.9346\n",
            "Epoch 3/20\n",
            "151/151 [==============================] - 1s 10ms/step - loss: 0.2141 - accuracy: 0.9284 - val_loss: 0.0345 - val_accuracy: 0.9967\n",
            "Epoch 4/20\n",
            "151/151 [==============================] - 1s 9ms/step - loss: 0.1093 - accuracy: 0.9631 - val_loss: 0.0190 - val_accuracy: 0.9985\n",
            "Epoch 5/20\n",
            "151/151 [==============================] - 1s 9ms/step - loss: 0.0708 - accuracy: 0.9779 - val_loss: 0.0078 - val_accuracy: 0.9999\n",
            "Epoch 6/20\n",
            "151/151 [==============================] - 1s 9ms/step - loss: 0.0458 - accuracy: 0.9864 - val_loss: 0.0040 - val_accuracy: 0.9998\n",
            "Epoch 7/20\n",
            "151/151 [==============================] - 1s 9ms/step - loss: 0.0372 - accuracy: 0.9879 - val_loss: 0.0016 - val_accuracy: 1.0000\n",
            "Epoch 8/20\n",
            "151/151 [==============================] - 1s 9ms/step - loss: 0.0315 - accuracy: 0.9898 - val_loss: 0.0037 - val_accuracy: 0.9999\n",
            "Epoch 9/20\n",
            "151/151 [==============================] - 1s 9ms/step - loss: 0.0266 - accuracy: 0.9918 - val_loss: 7.2418e-04 - val_accuracy: 1.0000\n",
            "Epoch 10/20\n",
            "151/151 [==============================] - 1s 9ms/step - loss: 0.0166 - accuracy: 0.9954 - val_loss: 5.9471e-04 - val_accuracy: 1.0000\n",
            "Epoch 11/20\n",
            "151/151 [==============================] - 1s 10ms/step - loss: 0.0145 - accuracy: 0.9958 - val_loss: 8.0737e-04 - val_accuracy: 0.9999\n",
            "Epoch 12/20\n",
            "151/151 [==============================] - 1s 10ms/step - loss: 0.0149 - accuracy: 0.9952 - val_loss: 4.6107e-04 - val_accuracy: 1.0000\n",
            "Epoch 13/20\n",
            "151/151 [==============================] - 2s 12ms/step - loss: 0.0177 - accuracy: 0.9942 - val_loss: 4.9947e-04 - val_accuracy: 1.0000\n",
            "Epoch 14/20\n",
            "151/151 [==============================] - 2s 11ms/step - loss: 0.0179 - accuracy: 0.9943 - val_loss: 3.9287e-04 - val_accuracy: 1.0000\n",
            "Epoch 15/20\n",
            "151/151 [==============================] - 1s 10ms/step - loss: 0.0113 - accuracy: 0.9969 - val_loss: 2.1363e-04 - val_accuracy: 1.0000\n",
            "Epoch 16/20\n",
            "151/151 [==============================] - 1s 9ms/step - loss: 0.0143 - accuracy: 0.9954 - val_loss: 1.8620e-04 - val_accuracy: 1.0000\n",
            "Epoch 17/20\n",
            "151/151 [==============================] - 2s 10ms/step - loss: 0.0109 - accuracy: 0.9971 - val_loss: 1.4136e-04 - val_accuracy: 1.0000\n",
            "Epoch 18/20\n",
            "151/151 [==============================] - 1s 10ms/step - loss: 0.0113 - accuracy: 0.9963 - val_loss: 1.5008e-04 - val_accuracy: 1.0000\n",
            "Epoch 19/20\n",
            "151/151 [==============================] - 1s 10ms/step - loss: 0.0107 - accuracy: 0.9969 - val_loss: 1.3986e-04 - val_accuracy: 1.0000\n",
            "Epoch 20/20\n",
            "151/151 [==============================] - 1s 10ms/step - loss: 0.0075 - accuracy: 0.9975 - val_loss: 3.7555e-05 - val_accuracy: 1.0000\n"
          ]
        }
      ]
    },
    {
      "cell_type": "markdown",
      "source": [
        "### Trying anthoer model and chaning some number to see the difference"
      ],
      "metadata": {
        "id": "wSZT7r2uNH2z"
      }
    },
    {
      "cell_type": "code",
      "source": [
        "model=Sequential()\n",
        "model.add(Conv2D(32,(3,3),activation='relu',input_shape=(28,28,1)))\n",
        "model.add(Conv2D(32,(3,3),activation='relu'))\n",
        "model.add(BatchNormalization())\n",
        "model.add(MaxPooling2D(2,2))\n",
        "model.add(Dropout(0.25))\n",
        "model.add(Conv2D(64,(3,3),activation='relu'))\n",
        "\n",
        "model.add(BatchNormalization())\n",
        "model.add(MaxPooling2D(2,2))\n",
        "model.add(Dropout(0.25))\n",
        "\n",
        "model.add(Flatten())\n",
        "model.add(Dropout(0.25))\n",
        "model.add(Dense(32,activation='relu'))\n",
        "model.add(Dense(24,activation='softmax'))\n",
        "\n",
        "model.compile(optimizer='adam',loss='categorical_crossentropy',metrics=['accuracy'])"
      ],
      "metadata": {
        "id": "_nquCUOzSaEJ"
      },
      "execution_count": 37,
      "outputs": []
    },
    {
      "cell_type": "code",
      "source": [
        "model.summary()"
      ],
      "metadata": {
        "id": "NFk_EpQnTDTo",
        "colab": {
          "base_uri": "https://localhost:8080/"
        },
        "outputId": "d8a3fe72-c583-4aeb-feb7-154a9b636f80"
      },
      "execution_count": 38,
      "outputs": [
        {
          "output_type": "stream",
          "name": "stdout",
          "text": [
            "Model: \"sequential_3\"\n",
            "_________________________________________________________________\n",
            " Layer (type)                Output Shape              Param #   \n",
            "=================================================================\n",
            " conv2d_12 (Conv2D)          (None, 26, 26, 32)        320       \n",
            "                                                                 \n",
            " conv2d_13 (Conv2D)          (None, 24, 24, 32)        9248      \n",
            "                                                                 \n",
            " batch_normalization_4 (Batc  (None, 24, 24, 32)       128       \n",
            " hNormalization)                                                 \n",
            "                                                                 \n",
            " max_pooling2d_5 (MaxPooling  (None, 12, 12, 32)       0         \n",
            " 2D)                                                             \n",
            "                                                                 \n",
            " dropout_8 (Dropout)         (None, 12, 12, 32)        0         \n",
            "                                                                 \n",
            " conv2d_14 (Conv2D)          (None, 10, 10, 64)        18496     \n",
            "                                                                 \n",
            " batch_normalization_5 (Batc  (None, 10, 10, 64)       256       \n",
            " hNormalization)                                                 \n",
            "                                                                 \n",
            " max_pooling2d_6 (MaxPooling  (None, 5, 5, 64)         0         \n",
            " 2D)                                                             \n",
            "                                                                 \n",
            " dropout_9 (Dropout)         (None, 5, 5, 64)          0         \n",
            "                                                                 \n",
            " flatten_3 (Flatten)         (None, 1600)              0         \n",
            "                                                                 \n",
            " dropout_10 (Dropout)        (None, 1600)              0         \n",
            "                                                                 \n",
            " dense_6 (Dense)             (None, 32)                51232     \n",
            "                                                                 \n",
            " dense_7 (Dense)             (None, 24)                792       \n",
            "                                                                 \n",
            "=================================================================\n",
            "Total params: 80,472\n",
            "Trainable params: 80,280\n",
            "Non-trainable params: 192\n",
            "_________________________________________________________________\n"
          ]
        }
      ]
    },
    {
      "cell_type": "code",
      "source": [
        "history = model.fit(x_train,y_train,validation_data= (x_val,y_val), batch_size = 128, epochs=20 )"
      ],
      "metadata": {
        "id": "m-RHDEnCTHuA",
        "colab": {
          "base_uri": "https://localhost:8080/"
        },
        "outputId": "622f2446-6481-4ee2-e56e-ebe0f9f3b941"
      },
      "execution_count": 39,
      "outputs": [
        {
          "output_type": "stream",
          "name": "stdout",
          "text": [
            "Epoch 1/20\n",
            "151/151 [==============================] - 2s 12ms/step - loss: 1.7436 - accuracy: 0.4640 - val_loss: 4.4177 - val_accuracy: 0.0412\n",
            "Epoch 2/20\n",
            "151/151 [==============================] - 1s 10ms/step - loss: 0.2542 - accuracy: 0.9157 - val_loss: 5.5197 - val_accuracy: 0.0412\n",
            "Epoch 3/20\n",
            "151/151 [==============================] - 2s 10ms/step - loss: 0.0828 - accuracy: 0.9766 - val_loss: 2.7957 - val_accuracy: 0.3156\n",
            "Epoch 4/20\n",
            "151/151 [==============================] - 1s 9ms/step - loss: 0.0425 - accuracy: 0.9888 - val_loss: 0.3004 - val_accuracy: 0.9165\n",
            "Epoch 5/20\n",
            "151/151 [==============================] - 2s 10ms/step - loss: 0.0270 - accuracy: 0.9929 - val_loss: 0.0137 - val_accuracy: 0.9989\n",
            "Epoch 6/20\n",
            "151/151 [==============================] - 2s 10ms/step - loss: 0.0204 - accuracy: 0.9947 - val_loss: 0.0089 - val_accuracy: 0.9988\n",
            "Epoch 7/20\n",
            "151/151 [==============================] - 2s 10ms/step - loss: 0.0141 - accuracy: 0.9967 - val_loss: 0.0055 - val_accuracy: 0.9993\n",
            "Epoch 8/20\n",
            "151/151 [==============================] - 1s 9ms/step - loss: 0.0130 - accuracy: 0.9967 - val_loss: 0.0023 - val_accuracy: 0.9996\n",
            "Epoch 9/20\n",
            "151/151 [==============================] - 2s 10ms/step - loss: 0.0120 - accuracy: 0.9968 - val_loss: 0.0014 - val_accuracy: 1.0000\n",
            "Epoch 10/20\n",
            "151/151 [==============================] - 1s 9ms/step - loss: 0.0159 - accuracy: 0.9948 - val_loss: 0.0015 - val_accuracy: 0.9998\n",
            "Epoch 11/20\n",
            "151/151 [==============================] - 1s 10ms/step - loss: 0.0090 - accuracy: 0.9975 - val_loss: 9.5448e-04 - val_accuracy: 1.0000\n",
            "Epoch 12/20\n",
            "151/151 [==============================] - 1s 10ms/step - loss: 0.0129 - accuracy: 0.9960 - val_loss: 4.4414e-04 - val_accuracy: 1.0000\n",
            "Epoch 13/20\n",
            "151/151 [==============================] - 1s 9ms/step - loss: 0.0062 - accuracy: 0.9983 - val_loss: 5.4772e-04 - val_accuracy: 1.0000\n",
            "Epoch 14/20\n",
            "151/151 [==============================] - 1s 10ms/step - loss: 0.0052 - accuracy: 0.9983 - val_loss: 0.0013 - val_accuracy: 0.9996\n",
            "Epoch 15/20\n",
            "151/151 [==============================] - 1s 9ms/step - loss: 0.0080 - accuracy: 0.9978 - val_loss: 0.0051 - val_accuracy: 0.9992\n",
            "Epoch 16/20\n",
            "151/151 [==============================] - 2s 10ms/step - loss: 0.0067 - accuracy: 0.9980 - val_loss: 9.3501e-04 - val_accuracy: 0.9999\n",
            "Epoch 17/20\n",
            "151/151 [==============================] - 1s 9ms/step - loss: 0.0068 - accuracy: 0.9980 - val_loss: 0.0060 - val_accuracy: 0.9987\n",
            "Epoch 18/20\n",
            "151/151 [==============================] - 1s 9ms/step - loss: 0.0047 - accuracy: 0.9985 - val_loss: 0.0014 - val_accuracy: 1.0000\n",
            "Epoch 19/20\n",
            "151/151 [==============================] - 1s 10ms/step - loss: 0.0073 - accuracy: 0.9977 - val_loss: 2.2370e-04 - val_accuracy: 1.0000\n",
            "Epoch 20/20\n",
            "151/151 [==============================] - 1s 10ms/step - loss: 0.0059 - accuracy: 0.9979 - val_loss: 7.5067e-04 - val_accuracy: 0.9999\n"
          ]
        }
      ]
    },
    {
      "cell_type": "code",
      "source": [
        "model=Sequential()\n",
        "model.add(Conv2D(32,(3,3),activation='relu',input_shape=(28,28,1)))\n",
        "model.add(Conv2D(32,(3,3),activation='relu'))\n",
        "model.add(MaxPooling2D(2,2))\n",
        "\n",
        "model.add(Conv2D(64,(3,3),activation='relu'))\n",
        "model.add(MaxPooling2D(2,2))\n",
        "\n",
        "model.add(Flatten())\n",
        "model.add(Dropout(0.25))\n",
        "model.add(Dense(32,activation='relu'))\n",
        "model.add(Dense(24,activation='softmax'))\n",
        "\n",
        "model.compile(optimizer='adam',loss='categorical_crossentropy',metrics=['accuracy'])"
      ],
      "metadata": {
        "id": "jaELLwlC97wO"
      },
      "execution_count": 40,
      "outputs": []
    },
    {
      "cell_type": "code",
      "source": [
        "model.summary()"
      ],
      "metadata": {
        "colab": {
          "base_uri": "https://localhost:8080/"
        },
        "id": "Nx88aDwx98qc",
        "outputId": "91b2f39a-e3dd-48b1-98d2-35f50f3a5ebd"
      },
      "execution_count": 41,
      "outputs": [
        {
          "output_type": "stream",
          "name": "stdout",
          "text": [
            "Model: \"sequential_4\"\n",
            "_________________________________________________________________\n",
            " Layer (type)                Output Shape              Param #   \n",
            "=================================================================\n",
            " conv2d_15 (Conv2D)          (None, 26, 26, 32)        320       \n",
            "                                                                 \n",
            " conv2d_16 (Conv2D)          (None, 24, 24, 32)        9248      \n",
            "                                                                 \n",
            " max_pooling2d_7 (MaxPooling  (None, 12, 12, 32)       0         \n",
            " 2D)                                                             \n",
            "                                                                 \n",
            " conv2d_17 (Conv2D)          (None, 10, 10, 64)        18496     \n",
            "                                                                 \n",
            " max_pooling2d_8 (MaxPooling  (None, 5, 5, 64)         0         \n",
            " 2D)                                                             \n",
            "                                                                 \n",
            " flatten_4 (Flatten)         (None, 1600)              0         \n",
            "                                                                 \n",
            " dropout_11 (Dropout)        (None, 1600)              0         \n",
            "                                                                 \n",
            " dense_8 (Dense)             (None, 32)                51232     \n",
            "                                                                 \n",
            " dense_9 (Dense)             (None, 24)                792       \n",
            "                                                                 \n",
            "=================================================================\n",
            "Total params: 80,088\n",
            "Trainable params: 80,088\n",
            "Non-trainable params: 0\n",
            "_________________________________________________________________\n"
          ]
        }
      ]
    },
    {
      "cell_type": "code",
      "source": [
        "history = model.fit(x_train,y_train,validation_data= (x_val,y_val), batch_size = 128, epochs=20 )"
      ],
      "metadata": {
        "colab": {
          "base_uri": "https://localhost:8080/"
        },
        "id": "H30kiyH898eM",
        "outputId": "0d1e560c-b245-4e46-d511-7279e3c67f0d"
      },
      "execution_count": 42,
      "outputs": [
        {
          "output_type": "stream",
          "name": "stdout",
          "text": [
            "Epoch 1/20\n",
            "151/151 [==============================] - 2s 11ms/step - loss: 2.3104 - accuracy: 0.3108 - val_loss: 0.8931 - val_accuracy: 0.7311\n",
            "Epoch 2/20\n",
            "151/151 [==============================] - 1s 9ms/step - loss: 0.5438 - accuracy: 0.8329 - val_loss: 0.1939 - val_accuracy: 0.9551\n",
            "Epoch 3/20\n",
            "151/151 [==============================] - 1s 9ms/step - loss: 0.1939 - accuracy: 0.9392 - val_loss: 0.0714 - val_accuracy: 0.9835\n",
            "Epoch 4/20\n",
            "151/151 [==============================] - 1s 8ms/step - loss: 0.0918 - accuracy: 0.9716 - val_loss: 0.0220 - val_accuracy: 0.9992\n",
            "Epoch 5/20\n",
            "151/151 [==============================] - 1s 9ms/step - loss: 0.0531 - accuracy: 0.9848 - val_loss: 0.0093 - val_accuracy: 0.9995\n",
            "Epoch 6/20\n",
            "151/151 [==============================] - 1s 9ms/step - loss: 0.0322 - accuracy: 0.9919 - val_loss: 0.0052 - val_accuracy: 1.0000\n",
            "Epoch 7/20\n",
            "151/151 [==============================] - 1s 9ms/step - loss: 0.0243 - accuracy: 0.9938 - val_loss: 0.0041 - val_accuracy: 0.9998\n",
            "Epoch 8/20\n",
            "151/151 [==============================] - 1s 9ms/step - loss: 0.0222 - accuracy: 0.9934 - val_loss: 0.0028 - val_accuracy: 0.9999\n",
            "Epoch 9/20\n",
            "151/151 [==============================] - 1s 8ms/step - loss: 0.0145 - accuracy: 0.9964 - val_loss: 0.0012 - val_accuracy: 0.9999\n",
            "Epoch 10/20\n",
            "151/151 [==============================] - 1s 9ms/step - loss: 0.0112 - accuracy: 0.9972 - val_loss: 8.8682e-04 - val_accuracy: 1.0000\n",
            "Epoch 11/20\n",
            "151/151 [==============================] - 1s 9ms/step - loss: 0.0103 - accuracy: 0.9974 - val_loss: 0.0018 - val_accuracy: 0.9999\n",
            "Epoch 12/20\n",
            "151/151 [==============================] - 1s 8ms/step - loss: 0.0122 - accuracy: 0.9965 - val_loss: 0.0012 - val_accuracy: 1.0000\n",
            "Epoch 13/20\n",
            "151/151 [==============================] - 1s 9ms/step - loss: 0.0101 - accuracy: 0.9969 - val_loss: 6.5783e-04 - val_accuracy: 1.0000\n",
            "Epoch 14/20\n",
            "151/151 [==============================] - 1s 9ms/step - loss: 0.0077 - accuracy: 0.9976 - val_loss: 6.4907e-04 - val_accuracy: 1.0000\n",
            "Epoch 15/20\n",
            "151/151 [==============================] - 1s 8ms/step - loss: 0.0076 - accuracy: 0.9978 - val_loss: 5.2306e-04 - val_accuracy: 1.0000\n",
            "Epoch 16/20\n",
            "151/151 [==============================] - 1s 9ms/step - loss: 0.0055 - accuracy: 0.9986 - val_loss: 2.9168e-04 - val_accuracy: 1.0000\n",
            "Epoch 17/20\n",
            "151/151 [==============================] - 1s 8ms/step - loss: 0.0060 - accuracy: 0.9983 - val_loss: 5.7216e-04 - val_accuracy: 1.0000\n",
            "Epoch 18/20\n",
            "151/151 [==============================] - 1s 8ms/step - loss: 0.0101 - accuracy: 0.9968 - val_loss: 9.8300e-04 - val_accuracy: 0.9996\n",
            "Epoch 19/20\n",
            "151/151 [==============================] - 1s 8ms/step - loss: 0.0047 - accuracy: 0.9986 - val_loss: 3.4020e-04 - val_accuracy: 1.0000\n",
            "Epoch 20/20\n",
            "151/151 [==============================] - 1s 8ms/step - loss: 0.0076 - accuracy: 0.9980 - val_loss: 5.4184e-04 - val_accuracy: 1.0000\n"
          ]
        }
      ]
    },
    {
      "cell_type": "code",
      "source": [
        "#Viewing the training results\n",
        "history_frame = pd.DataFrame(history.history)\n",
        "history_frame.loc[:, ['loss', 'val_loss']].plot()\n",
        "history_frame.loc[:, ['accuracy', 'val_accuracy']].plot();"
      ],
      "metadata": {
        "id": "TqxF7UlUUN-I",
        "colab": {
          "base_uri": "https://localhost:8080/",
          "height": 513
        },
        "outputId": "d78ec5c1-9d36-46ab-bbf9-18a23d6bf878"
      },
      "execution_count": 43,
      "outputs": [
        {
          "output_type": "display_data",
          "data": {
            "text/plain": [
              "<Figure size 432x288 with 1 Axes>"
            ],
            "image/png": "[encoded data removed]"
          },
          "metadata": {
            "needs_background": "light"
          }
        },
        {
          "output_type": "display_data",
          "data": {
            "text/plain": [
              "<Figure size 432x288 with 1 Axes>"
            ],
            "image/png": "[encoded data removed]"
          },
          "metadata": {
            "needs_background": "light"
          }
        }
      ]
    },
    {
      "cell_type": "code",
      "source": [
        "score = model.evaluate(x_test, y_test, verbose=0)\n",
        "print(\"Loss: \" + str(score[0]))\n",
        "print(\"Accuracy: \" + str(score[1]*100) + \"%\")"
      ],
      "metadata": {
        "colab": {
          "base_uri": "https://localhost:8080/"
        },
        "id": "8wqbndpk44jI",
        "outputId": "c865f9b9-2443-4273-fa23-23cfe46e4f15"
      },
      "execution_count": 44,
      "outputs": [
        {
          "output_type": "stream",
          "name": "stdout",
          "text": [
            "Loss: 0.45582258701324463\n",
            "Accuracy: 90.85331559181213%\n"
          ]
        }
      ]
    },
    {
      "cell_type": "code",
      "source": [
        "# Predicting \n",
        "predicition=model.predict(x_test)[0]\n",
        "score=np.round(max(predicition),2)\n",
        "pred=y_test[np.argmax(predicition)]\n",
        "print(f\"True : {y_test} \\n Prediction: {pred} \\n Score {score}\")"
      ],
      "metadata": {
        "colab": {
          "base_uri": "https://localhost:8080/"
        },
        "id": "VnStdi706yml",
        "outputId": "efa00221-3143-44a3-aa0e-8050e51c9432"
      },
      "execution_count": 45,
      "outputs": [
        {
          "output_type": "stream",
          "name": "stdout",
          "text": [
            "225/225 [==============================] - 0s 2ms/step\n",
            "True : [[0 0 0 ... 0 0 0]\n",
            " [0 0 0 ... 0 0 0]\n",
            " [0 0 0 ... 0 0 0]\n",
            " ...\n",
            " [0 0 1 ... 0 0 0]\n",
            " [0 0 0 ... 0 0 0]\n",
            " [0 0 1 ... 0 0 0]] \n",
            " Prediction: [0 0 0 0 0 0 0 0 0 1 0 0 0 0 0 0 0 0 0 0 0 0 0 0] \n",
            " Score 1.0\n"
          ]
        }
      ]
    },
    {
      "cell_type": "code",
      "source": [],
      "metadata": {
        "id": "Vnhmw6YzF7sf"
      },
      "execution_count": null,
      "outputs": []
    }
  ]
}