{
  "nbformat": 4,
  "nbformat_minor": 0,
  "metadata": {
    "colab": {
      "provenance": [],
      "collapsed_sections": []
    },
    "kernelspec": {
      "name": "python3",
      "display_name": "Python 3"
    },
    "language_info": {
      "name": "python"
    },
    "accelerator": "GPU"
  },
  "cells": [
    {
      "cell_type": "markdown",
      "source": [
        "### Import Library"
      ],
      "metadata": {
        "id": "eyHZfvXiS_g7"
      }
    },
    {
      "cell_type": "code",
      "execution_count": null,
      "metadata": {
        "id": "zmFQnqJgbOox"
      },
      "outputs": [],
      "source": [
        "import pandas as pd \n",
        "import numpy as np \n",
        "import os "
      ]
    },
    {
      "cell_type": "markdown",
      "source": [
        "### Download the dataset from kaggle"
      ],
      "metadata": {
        "id": "Rqw75T9oThn9"
      }
    },
    {
      "cell_type": "code",
      "source": [
        "{\"username\":\"nesreenahmed\",\"key\":\"c53f3958a0f70dff37202dc3f20b134a\"}"
      ],
      "metadata": {
        "colab": {
          "base_uri": "https://localhost:8080/"
        },
        "id": "sk7iZeaqbcqc",
        "outputId": "04491f53-601d-456c-c3f6-6383df5fd8ca"
      },
      "execution_count": null,
      "outputs": [
        {
          "output_type": "execute_result",
          "data": {
            "text/plain": [
              "{'username': 'nesreenahmed', 'key': 'c53f3958a0f70dff37202dc3f20b134a'}"
            ]
          },
          "metadata": {},
          "execution_count": 10
        }
      ]
    },
    {
      "cell_type": "code",
      "source": [
        "# to download the dataset from kaggle\n",
        "!pip install -U -q kaggle\n",
        "!mkdir -p ~/.kaggle\n",
        "!echo '{\"username\":\"nesreenahmed\",\"key\":\"c53f3958a0f70dff37202dc3f20b134a\"}' > ~/.kaggle/kaggle.json\n",
        "!chmod 600 ~/.kaggle/kaggle.json\n",
        "!kaggle competitions download -c dogs-vs-cats"
      ],
      "metadata": {
        "colab": {
          "base_uri": "https://localhost:8080/"
        },
        "id": "TsRI0gz-be5C",
        "outputId": "cc3c9994-8e3a-481f-ebe1-408fe7655cc2"
      },
      "execution_count": null,
      "outputs": [
        {
          "output_type": "stream",
          "name": "stdout",
          "text": [
            "Downloading dogs-vs-cats.zip to /content\n",
            "100% 809M/812M [00:08<00:00, 130MB/s]\n",
            "100% 812M/812M [00:08<00:00, 98.0MB/s]\n"
          ]
        }
      ]
    },
    {
      "cell_type": "code",
      "source": [
        "os.listdir()"
      ],
      "metadata": {
        "colab": {
          "base_uri": "https://localhost:8080/"
        },
        "id": "A9BqI-j4bhee",
        "outputId": "962f1bd3-80af-4a9a-ccd2-2995430928b9"
      },
      "execution_count": null,
      "outputs": [
        {
          "output_type": "execute_result",
          "data": {
            "text/plain": [
              "['.config', 'dogs-vs-cats.zip', 'sample_data']"
            ]
          },
          "metadata": {},
          "execution_count": 12
        }
      ]
    },
    {
      "cell_type": "code",
      "source": [
        "import zipfile # the zipfile module used to extract the data from zipped files"
      ],
      "metadata": {
        "id": "cwKzqzbdbjtb"
      },
      "execution_count": null,
      "outputs": []
    },
    {
      "cell_type": "code",
      "source": [
        "zip_file=['test1','train']\n",
        "for zip_file in zip_file:\n",
        "  with zipfile.ZipFile('/content/dogs-vs-cats.zip'.format(zip_file),'r') as z: # from the variable called zipfile used the method called ZipFile and perform read operation\n",
        "    z.extractall('.') # extract all the files seperated by the \".\"\n",
        "    print('{} unzipped'.format(zip_file))"
      ],
      "metadata": {
        "colab": {
          "base_uri": "https://localhost:8080/"
        },
        "id": "456qqxl-bmTD",
        "outputId": "31178377-380c-4b11-9825-ad75e8e5324d"
      },
      "execution_count": null,
      "outputs": [
        {
          "output_type": "stream",
          "name": "stdout",
          "text": [
            "test1 unzipped\n",
            "train unzipped\n"
          ]
        }
      ]
    },
    {
      "cell_type": "code",
      "source": [
        "os.listdir() # to list all the directories within the current directory"
      ],
      "metadata": {
        "colab": {
          "base_uri": "https://localhost:8080/"
        },
        "id": "_d0zjNaOboXX",
        "outputId": "10c62996-874f-40ff-f2c9-4a67bebfd689"
      },
      "execution_count": null,
      "outputs": [
        {
          "output_type": "execute_result",
          "data": {
            "text/plain": [
              "['.config',\n",
              " 'dogs-vs-cats.zip',\n",
              " 'test1.zip',\n",
              " 'train.zip',\n",
              " 'sampleSubmission.csv',\n",
              " 'sample_data']"
            ]
          },
          "metadata": {},
          "execution_count": 15
        }
      ]
    },
    {
      "cell_type": "code",
      "source": [
        "with zipfile.ZipFile('/content/train.zip','r') as z:\n",
        "  z.extractall('.') \n",
        "  print('{}unzipped'.format(zip_file))"
      ],
      "metadata": {
        "colab": {
          "base_uri": "https://localhost:8080/"
        },
        "id": "uDc-W1Uhbr-k",
        "outputId": "c2a71b1c-3f6f-40e1-b307-e495d7e95d9c"
      },
      "execution_count": null,
      "outputs": [
        {
          "output_type": "stream",
          "name": "stdout",
          "text": [
            "trainunzipped\n"
          ]
        }
      ]
    },
    {
      "cell_type": "code",
      "source": [
        "with zipfile.ZipFile('/content/test1.zip') as z:\n",
        "  z.extractall('.')\n",
        "  print('{}unzipped'.format(zip_file))"
      ],
      "metadata": {
        "colab": {
          "base_uri": "https://localhost:8080/"
        },
        "id": "fMQ7x0_0buSu",
        "outputId": "2e3e1321-1de8-48d7-d1a4-64d09cdf170c"
      },
      "execution_count": null,
      "outputs": [
        {
          "output_type": "stream",
          "name": "stdout",
          "text": [
            "trainunzipped\n"
          ]
        }
      ]
    },
    {
      "cell_type": "markdown",
      "source": [
        "### Prepare Traning Data"
      ],
      "metadata": {
        "id": "dgfS2ep6Tm9H"
      }
    },
    {
      "cell_type": "code",
      "source": [
        "img_file='/content/train'\n",
        "file_names=os.listdir(img_file)\n",
        "categories =[]\n",
        "path=[]\n",
        "for file_name in file_names:\n",
        "  category=file_name.split('.')[0]\n",
        "  full_path=os.path.join(img_file,file_name)\n",
        "  path.append(full_path)\n",
        "  categories .append(category)\n",
        "\n",
        "df=pd.DataFrame()\n",
        "df['img_path']=path\n",
        "df['category']=categories \n",
        "df.head(10)"
      ],
      "metadata": {
        "colab": {
          "base_uri": "https://localhost:8080/",
          "height": 363
        },
        "id": "nnoEb_8cbw_R",
        "outputId": "0710cb71-0a47-4106-c5e2-be0bd4205925"
      },
      "execution_count": null,
      "outputs": [
        {
          "output_type": "execute_result",
          "data": {
            "text/plain": [
              "                       img_path category\n",
              "0  /content/train/cat.11580.jpg      cat\n",
              "1   /content/train/dog.7796.jpg      dog\n",
              "2    /content/train/cat.759.jpg      cat\n",
              "3   /content/train/dog.6413.jpg      dog\n",
              "4   /content/train/dog.3618.jpg      dog\n",
              "5   /content/train/dog.3109.jpg      dog\n",
              "6    /content/train/cat.992.jpg      cat\n",
              "7   /content/train/dog.7640.jpg      dog\n",
              "8  /content/train/cat.10122.jpg      cat\n",
              "9   /content/train/cat.3017.jpg      cat"
            ],
            "text/html": [
              "\n",
              "  <div id=\"df-f55eee09-9068-4d84-91ec-e55fd0362629\">\n",
              "    <div class=\"colab-df-container\">\n",
              "      <div>\n",
              "<style scoped>\n",
              "    .dataframe tbody tr th:only-of-type {\n",
              "        vertical-align: middle;\n",
              "    }\n",
              "\n",
              "    .dataframe tbody tr th {\n",
              "        vertical-align: top;\n",
              "    }\n",
              "\n",
              "    .dataframe thead th {\n",
              "        text-align: right;\n",
              "    }\n",
              "</style>\n",
              "<table border=\"1\" class=\"dataframe\">\n",
              "  <thead>\n",
              "    <tr style=\"text-align: right;\">\n",
              "      <th></th>\n",
              "      <th>img_path</th>\n",
              "      <th>category</th>\n",
              "    </tr>\n",
              "  </thead>\n",
              "  <tbody>\n",
              "    <tr>\n",
              "      <th>0</th>\n",
              "      <td>/content/train/cat.11580.jpg</td>\n",
              "      <td>cat</td>\n",
              "    </tr>\n",
              "    <tr>\n",
              "      <th>1</th>\n",
              "      <td>/content/train/dog.7796.jpg</td>\n",
              "      <td>dog</td>\n",
              "    </tr>\n",
              "    <tr>\n",
              "      <th>2</th>\n",
              "      <td>/content/train/cat.759.jpg</td>\n",
              "      <td>cat</td>\n",
              "    </tr>\n",
              "    <tr>\n",
              "      <th>3</th>\n",
              "      <td>/content/train/dog.6413.jpg</td>\n",
              "      <td>dog</td>\n",
              "    </tr>\n",
              "    <tr>\n",
              "      <th>4</th>\n",
              "      <td>/content/train/dog.3618.jpg</td>\n",
              "      <td>dog</td>\n",
              "    </tr>\n",
              "    <tr>\n",
              "      <th>5</th>\n",
              "      <td>/content/train/dog.3109.jpg</td>\n",
              "      <td>dog</td>\n",
              "    </tr>\n",
              "    <tr>\n",
              "      <th>6</th>\n",
              "      <td>/content/train/cat.992.jpg</td>\n",
              "      <td>cat</td>\n",
              "    </tr>\n",
              "    <tr>\n",
              "      <th>7</th>\n",
              "      <td>/content/train/dog.7640.jpg</td>\n",
              "      <td>dog</td>\n",
              "    </tr>\n",
              "    <tr>\n",
              "      <th>8</th>\n",
              "      <td>/content/train/cat.10122.jpg</td>\n",
              "      <td>cat</td>\n",
              "    </tr>\n",
              "    <tr>\n",
              "      <th>9</th>\n",
              "      <td>/content/train/cat.3017.jpg</td>\n",
              "      <td>cat</td>\n",
              "    </tr>\n",
              "  </tbody>\n",
              "</table>\n",
              "</div>\n",
              "      <button class=\"colab-df-convert\" onclick=\"convertToInteractive('df-f55eee09-9068-4d84-91ec-e55fd0362629')\"\n",
              "              title=\"Convert this dataframe to an interactive table.\"\n",
              "              style=\"display:none;\">\n",
              "        \n",
              "  <svg xmlns=\"http://www.w3.org/2000/svg\" height=\"24px\"viewBox=\"0 0 24 24\"\n",
              "       width=\"24px\">\n",
              "    <path d=\"M0 0h24v24H0V0z\" fill=\"none\"/>\n",
              "    <path d=\"M18.56 5.44l.94 2.06.94-2.06 2.06-.94-2.06-.94-.94-2.06-.94 2.06-2.06.94zm-11 1L8.5 8.5l.94-2.06 2.06-.94-2.06-.94L8.5 2.5l-.94 2.06-2.06.94zm10 10l.94 2.06.94-2.06 2.06-.94-2.06-.94-.94-2.06-.94 2.06-2.06.94z\"/><path d=\"M17.41 7.96l-1.37-1.37c-.4-.4-.92-.59-1.43-.59-.52 0-1.04.2-1.43.59L10.3 9.45l-7.72 7.72c-.78.78-.78 2.05 0 2.83L4 21.41c.39.39.9.59 1.41.59.51 0 1.02-.2 1.41-.59l7.78-7.78 2.81-2.81c.8-.78.8-2.07 0-2.86zM5.41 20L4 18.59l7.72-7.72 1.47 1.35L5.41 20z\"/>\n",
              "  </svg>\n",
              "      </button>\n",
              "      \n",
              "  <style>\n",
              "    .colab-df-container {\n",
              "      display:flex;\n",
              "      flex-wrap:wrap;\n",
              "      gap: 12px;\n",
              "    }\n",
              "\n",
              "    .colab-df-convert {\n",
              "      background-color: #E8F0FE;\n",
              "      border: none;\n",
              "      border-radius: 50%;\n",
              "      cursor: pointer;\n",
              "      display: none;\n",
              "      fill: #1967D2;\n",
              "      height: 32px;\n",
              "      padding: 0 0 0 0;\n",
              "      width: 32px;\n",
              "    }\n",
              "\n",
              "    .colab-df-convert:hover {\n",
              "      background-color: #E2EBFA;\n",
              "      box-shadow: 0px 1px 2px rgba(60, 64, 67, 0.3), 0px 1px 3px 1px rgba(60, 64, 67, 0.15);\n",
              "      fill: #174EA6;\n",
              "    }\n",
              "\n",
              "    [theme=dark] .colab-df-convert {\n",
              "      background-color: #3B4455;\n",
              "      fill: #D2E3FC;\n",
              "    }\n",
              "\n",
              "    [theme=dark] .colab-df-convert:hover {\n",
              "      background-color: #434B5C;\n",
              "      box-shadow: 0px 1px 3px 1px rgba(0, 0, 0, 0.15);\n",
              "      filter: drop-shadow(0px 1px 2px rgba(0, 0, 0, 0.3));\n",
              "      fill: #FFFFFF;\n",
              "    }\n",
              "  </style>\n",
              "\n",
              "      <script>\n",
              "        const buttonEl =\n",
              "          document.querySelector('#df-f55eee09-9068-4d84-91ec-e55fd0362629 button.colab-df-convert');\n",
              "        buttonEl.style.display =\n",
              "          google.colab.kernel.accessAllowed ? 'block' : 'none';\n",
              "\n",
              "        async function convertToInteractive(key) {\n",
              "          const element = document.querySelector('#df-f55eee09-9068-4d84-91ec-e55fd0362629');\n",
              "          const dataTable =\n",
              "            await google.colab.kernel.invokeFunction('convertToInteractive',\n",
              "                                                     [key], {});\n",
              "          if (!dataTable) return;\n",
              "\n",
              "          const docLinkHtml = 'Like what you see? Visit the ' +\n",
              "            '<a target=\"_blank\" href=https://colab.research.google.com/notebooks/data_table.ipynb>data table notebook</a>'\n",
              "            + ' to learn more about interactive tables.';\n",
              "          element.innerHTML = '';\n",
              "          dataTable['output_type'] = 'display_data';\n",
              "          await google.colab.output.renderOutput(dataTable, element);\n",
              "          const docLink = document.createElement('div');\n",
              "          docLink.innerHTML = docLinkHtml;\n",
              "          element.appendChild(docLink);\n",
              "        }\n",
              "      </script>\n",
              "    </div>\n",
              "  </div>\n",
              "  "
            ]
          },
          "metadata": {},
          "execution_count": 18
        }
      ]
    },
    {
      "cell_type": "code",
      "source": [
        "df.category.value_counts()"
      ],
      "metadata": {
        "colab": {
          "base_uri": "https://localhost:8080/"
        },
        "id": "ux7vYIcKbzND",
        "outputId": "b4a8b226-74f7-4b24-8c7d-e1c6bae8884b"
      },
      "execution_count": null,
      "outputs": [
        {
          "output_type": "execute_result",
          "data": {
            "text/plain": [
              "cat    12500\n",
              "dog    12500\n",
              "Name: category, dtype: int64"
            ]
          },
          "metadata": {},
          "execution_count": 19
        }
      ]
    },
    {
      "cell_type": "markdown",
      "source": [
        "### Split train and test data"
      ],
      "metadata": {
        "id": "dZJDFlrnTpab"
      }
    },
    {
      "cell_type": "code",
      "source": [
        "from sklearn.model_selection import train_test_split"
      ],
      "metadata": {
        "id": "SbQ2xfR6b1UG"
      },
      "execution_count": null,
      "outputs": []
    },
    {
      "cell_type": "code",
      "source": [
        "x_train,x_val=train_test_split(df,test_size=0.1,random_state=42)"
      ],
      "metadata": {
        "id": "3KoI9fvab3jA"
      },
      "execution_count": null,
      "outputs": []
    },
    {
      "cell_type": "code",
      "source": [
        "x_train.shape"
      ],
      "metadata": {
        "colab": {
          "base_uri": "https://localhost:8080/"
        },
        "id": "Voyd0_Ceb5aG",
        "outputId": "997602a7-aef3-4523-9e21-eded82b355ac"
      },
      "execution_count": null,
      "outputs": [
        {
          "output_type": "execute_result",
          "data": {
            "text/plain": [
              "(22500, 2)"
            ]
          },
          "metadata": {},
          "execution_count": 22
        }
      ]
    },
    {
      "cell_type": "code",
      "source": [
        "x_val.shape"
      ],
      "metadata": {
        "colab": {
          "base_uri": "https://localhost:8080/"
        },
        "id": "ZVbq6mN2b7pq",
        "outputId": "164975f0-9db5-4ed9-c31a-4383869d92fd"
      },
      "execution_count": null,
      "outputs": [
        {
          "output_type": "execute_result",
          "data": {
            "text/plain": [
              "(2500, 2)"
            ]
          },
          "metadata": {},
          "execution_count": 23
        }
      ]
    },
    {
      "cell_type": "markdown",
      "source": [
        "### Build Model"
      ],
      "metadata": {
        "id": "gxKTxfI8Tyct"
      }
    },
    {
      "cell_type": "code",
      "source": [
        "from tensorflow.keras.utils import to_categorical\n",
        "from tensorflow.keras.models import Sequential\n",
        "from tensorflow.keras.layers import Conv2D\n",
        "from tensorflow.keras.layers import MaxPooling2D\n",
        "from tensorflow.keras.layers import Dense\n",
        "from tensorflow.keras.layers import Flatten\n",
        "from tensorflow.keras.layers import Dropout\n",
        "from keras.layers import BatchNormalization"
      ],
      "metadata": {
        "id": "1B-v1jk9b9Ff"
      },
      "execution_count": null,
      "outputs": []
    },
    {
      "cell_type": "code",
      "source": [
        "model=Sequential()\n",
        "model.add(Conv2D(32,(3,3),activation='relu',input_shape=(250,250,3)))\n",
        "model.add(Conv2D(32,(3,3),activation='relu'))\n",
        "model.add(BatchNormalization())\n",
        "model.add(MaxPooling2D(2,2))\n",
        "model.add(Dropout(0.1))\n",
        "model.add(Conv2D(64,(3,3),activation='relu'))\n",
        "model.add(Conv2D(64,(3,3),activation='relu'))\n",
        "model.add(BatchNormalization())\n",
        "model.add(MaxPooling2D(2,2))\n",
        "model.add(Dropout(0.1))\n",
        "model.add(Conv2D(128,(3,3),activation='relu'))\n",
        "model.add(Conv2D(128,(3,3),activation='relu'))\n",
        "model.add(BatchNormalization())\n",
        "model.add(MaxPooling2D(2,2))\n",
        "model.add(Dropout(0.1))\n",
        "model.add(Conv2D(64,(3,3),activation='relu'))\n",
        "model.add(Conv2D(64,(3,3),activation='relu'))\n",
        "model.add(BatchNormalization())\n",
        "model.add(MaxPooling2D(2,2))\n",
        "model.add(Dropout(0.1))\n",
        "model.add(Flatten())\n",
        "model.add(Dense(256,activation='relu'))\n",
        "model.add(BatchNormalization())\n",
        "model.add(Dropout(0.5)) ### increase it to 0.5\n",
        "model.add(Dense(1,activation='sigmoid'))\n",
        "model.compile(optimizer='adam',loss='binary_crossentropy',metrics=['accuracy'])"
      ],
      "metadata": {
        "id": "H2_IMH13b_Zx"
      },
      "execution_count": null,
      "outputs": []
    },
    {
      "cell_type": "code",
      "source": [
        "from keras.preprocessing.image import ImageDataGenerator"
      ],
      "metadata": {
        "id": "ttgch1xbcCow"
      },
      "execution_count": null,
      "outputs": []
    },
    {
      "cell_type": "markdown",
      "source": [
        "### Traning Generator"
      ],
      "metadata": {
        "id": "l5gbxC_OT06X"
      }
    },
    {
      "cell_type": "code",
      "source": [
        "img_pre=ImageDataGenerator(rescale=1/255,width_shift_range=0.1,height_shift_range=0.2)\n",
        "img_pree=img_pre.flow_from_dataframe(dataframe=x_train,x_col='img_path',y_col='category',target_size=(250,250),class_mode='binary')"
      ],
      "metadata": {
        "colab": {
          "base_uri": "https://localhost:8080/"
        },
        "id": "D6EPzNmQcE4o",
        "outputId": "edaebe10-b535-4fbb-ec58-8c7b9fe84f64"
      },
      "execution_count": null,
      "outputs": [
        {
          "output_type": "stream",
          "name": "stdout",
          "text": [
            "Found 22500 validated image filenames belonging to 2 classes.\n"
          ]
        }
      ]
    },
    {
      "cell_type": "markdown",
      "source": [
        "### Validation Generator"
      ],
      "metadata": {
        "id": "Jv82XAHRT6YW"
      }
    },
    {
      "cell_type": "code",
      "source": [
        "val_pre=ImageDataGenerator(rescale=1/255,width_shift_range=0.1,height_shift_range=0.2)\n",
        "val_pree=val_pre.flow_from_dataframe(dataframe=x_val,x_col='img_path',y_col='category',target_size=(250,250),class_mode='binary')"
      ],
      "metadata": {
        "colab": {
          "base_uri": "https://localhost:8080/"
        },
        "id": "iXoA0VGEcG34",
        "outputId": "bd731c2a-6c37-46c9-b72c-2d21cdbcd5c0"
      },
      "execution_count": null,
      "outputs": [
        {
          "output_type": "stream",
          "name": "stdout",
          "text": [
            "Found 2500 validated image filenames belonging to 2 classes.\n"
          ]
        }
      ]
    },
    {
      "cell_type": "code",
      "source": [
        "model.summary()"
      ],
      "metadata": {
        "colab": {
          "base_uri": "https://localhost:8080/"
        },
        "id": "KDZmGrVJcI4d",
        "outputId": "ed40c760-b8fb-44a7-ebc9-0697dc2d3943"
      },
      "execution_count": null,
      "outputs": [
        {
          "output_type": "stream",
          "name": "stdout",
          "text": [
            "Model: \"sequential\"\n",
            "_________________________________________________________________\n",
            " Layer (type)                Output Shape              Param #   \n",
            "=================================================================\n",
            " conv2d (Conv2D)             (None, 248, 248, 32)      896       \n",
            "                                                                 \n",
            " conv2d_1 (Conv2D)           (None, 246, 246, 32)      9248      \n",
            "                                                                 \n",
            " batch_normalization (BatchN  (None, 246, 246, 32)     128       \n",
            " ormalization)                                                   \n",
            "                                                                 \n",
            " max_pooling2d (MaxPooling2D  (None, 123, 123, 32)     0         \n",
            " )                                                               \n",
            "                                                                 \n",
            " dropout (Dropout)           (None, 123, 123, 32)      0         \n",
            "                                                                 \n",
            " conv2d_2 (Conv2D)           (None, 121, 121, 64)      18496     \n",
            "                                                                 \n",
            " conv2d_3 (Conv2D)           (None, 119, 119, 64)      36928     \n",
            "                                                                 \n",
            " batch_normalization_1 (Batc  (None, 119, 119, 64)     256       \n",
            " hNormalization)                                                 \n",
            "                                                                 \n",
            " max_pooling2d_1 (MaxPooling  (None, 59, 59, 64)       0         \n",
            " 2D)                                                             \n",
            "                                                                 \n",
            " dropout_1 (Dropout)         (None, 59, 59, 64)        0         \n",
            "                                                                 \n",
            " conv2d_4 (Conv2D)           (None, 57, 57, 128)       73856     \n",
            "                                                                 \n",
            " conv2d_5 (Conv2D)           (None, 55, 55, 128)       147584    \n",
            "                                                                 \n",
            " batch_normalization_2 (Batc  (None, 55, 55, 128)      512       \n",
            " hNormalization)                                                 \n",
            "                                                                 \n",
            " max_pooling2d_2 (MaxPooling  (None, 27, 27, 128)      0         \n",
            " 2D)                                                             \n",
            "                                                                 \n",
            " dropout_2 (Dropout)         (None, 27, 27, 128)       0         \n",
            "                                                                 \n",
            " conv2d_6 (Conv2D)           (None, 25, 25, 64)        73792     \n",
            "                                                                 \n",
            " conv2d_7 (Conv2D)           (None, 23, 23, 64)        36928     \n",
            "                                                                 \n",
            " batch_normalization_3 (Batc  (None, 23, 23, 64)       256       \n",
            " hNormalization)                                                 \n",
            "                                                                 \n",
            " max_pooling2d_3 (MaxPooling  (None, 11, 11, 64)       0         \n",
            " 2D)                                                             \n",
            "                                                                 \n",
            " dropout_3 (Dropout)         (None, 11, 11, 64)        0         \n",
            "                                                                 \n",
            " flatten (Flatten)           (None, 7744)              0         \n",
            "                                                                 \n",
            " dense (Dense)               (None, 256)               1982720   \n",
            "                                                                 \n",
            " batch_normalization_4 (Batc  (None, 256)              1024      \n",
            " hNormalization)                                                 \n",
            "                                                                 \n",
            " dropout_4 (Dropout)         (None, 256)               0         \n",
            "                                                                 \n",
            " dense_1 (Dense)             (None, 1)                 257       \n",
            "                                                                 \n",
            "=================================================================\n",
            "Total params: 2,382,881\n",
            "Trainable params: 2,381,793\n",
            "Non-trainable params: 1,088\n",
            "_________________________________________________________________\n"
          ]
        }
      ]
    },
    {
      "cell_type": "markdown",
      "source": [
        "### Training the model"
      ],
      "metadata": {
        "id": "_20Re8LrUA4z"
      }
    },
    {
      "cell_type": "code",
      "source": [
        "history=model.fit(img_pree,epochs=50,batch_size=64,validation_data=val_pree,verbose=1,steps_per_epoch=x_train.shape[0]//64,validation_steps=x_val.shape[0]//64)"
      ],
      "metadata": {
        "colab": {
          "base_uri": "https://localhost:8080/"
        },
        "id": "gLm8WMipcKs9",
        "outputId": "cb4fa12c-6ce7-4173-9010-f63f807ab9a7"
      },
      "execution_count": null,
      "outputs": [
        {
          "output_type": "stream",
          "name": "stdout",
          "text": [
            "Epoch 1/50\n",
            "351/351 [==============================] - 208s 559ms/step - loss: 0.7798 - accuracy: 0.5978 - val_loss: 0.8340 - val_accuracy: 0.5264\n",
            "Epoch 2/50\n",
            "351/351 [==============================] - 193s 550ms/step - loss: 0.6280 - accuracy: 0.6620 - val_loss: 0.7404 - val_accuracy: 0.6218\n",
            "Epoch 3/50\n",
            "351/351 [==============================] - 196s 557ms/step - loss: 0.5563 - accuracy: 0.7164 - val_loss: 0.7626 - val_accuracy: 0.5905\n",
            "Epoch 4/50\n",
            "351/351 [==============================] - 195s 555ms/step - loss: 0.4944 - accuracy: 0.7635 - val_loss: 0.7020 - val_accuracy: 0.6370\n",
            "Epoch 5/50\n",
            "351/351 [==============================] - 198s 562ms/step - loss: 0.4394 - accuracy: 0.7989 - val_loss: 0.7661 - val_accuracy: 0.6106\n",
            "Epoch 6/50\n",
            "351/351 [==============================] - 193s 549ms/step - loss: 0.3836 - accuracy: 0.8304 - val_loss: 0.5399 - val_accuracy: 0.7380\n",
            "Epoch 7/50\n",
            "351/351 [==============================] - 193s 549ms/step - loss: 0.3566 - accuracy: 0.8405 - val_loss: 0.3977 - val_accuracy: 0.8229\n",
            "Epoch 8/50\n",
            "351/351 [==============================] - 193s 550ms/step - loss: 0.3151 - accuracy: 0.8675 - val_loss: 3.0449 - val_accuracy: 0.5577\n",
            "Epoch 9/50\n",
            "351/351 [==============================] - 193s 550ms/step - loss: 0.2828 - accuracy: 0.8827 - val_loss: 0.3494 - val_accuracy: 0.8534\n",
            "Epoch 10/50\n",
            "351/351 [==============================] - 193s 550ms/step - loss: 0.2507 - accuracy: 0.8934 - val_loss: 0.3229 - val_accuracy: 0.8630\n",
            "Epoch 11/50\n",
            "351/351 [==============================] - 192s 548ms/step - loss: 0.2343 - accuracy: 0.9032 - val_loss: 0.3555 - val_accuracy: 0.8510\n",
            "Epoch 12/50\n",
            "351/351 [==============================] - 192s 546ms/step - loss: 0.2356 - accuracy: 0.9014 - val_loss: 0.2326 - val_accuracy: 0.9071\n",
            "Epoch 13/50\n",
            "351/351 [==============================] - 193s 549ms/step - loss: 0.2072 - accuracy: 0.9176 - val_loss: 0.1949 - val_accuracy: 0.9287\n",
            "Epoch 14/50\n",
            "351/351 [==============================] - 193s 549ms/step - loss: 0.2020 - accuracy: 0.9161 - val_loss: 0.3514 - val_accuracy: 0.8582\n",
            "Epoch 15/50\n",
            "351/351 [==============================] - 192s 547ms/step - loss: 0.1902 - accuracy: 0.9219 - val_loss: 0.3209 - val_accuracy: 0.8646\n",
            "Epoch 16/50\n",
            "351/351 [==============================] - 192s 548ms/step - loss: 0.1842 - accuracy: 0.9252 - val_loss: 0.3059 - val_accuracy: 0.8702\n",
            "Epoch 17/50\n",
            "351/351 [==============================] - 192s 547ms/step - loss: 0.1762 - accuracy: 0.9257 - val_loss: 0.3198 - val_accuracy: 0.8606\n",
            "Epoch 18/50\n",
            "351/351 [==============================] - 193s 551ms/step - loss: 0.1753 - accuracy: 0.9301 - val_loss: 0.2208 - val_accuracy: 0.9079\n",
            "Epoch 19/50\n",
            "351/351 [==============================] - 192s 546ms/step - loss: 0.1650 - accuracy: 0.9353 - val_loss: 0.1926 - val_accuracy: 0.9223\n",
            "Epoch 20/50\n",
            "351/351 [==============================] - 192s 546ms/step - loss: 0.1524 - accuracy: 0.9379 - val_loss: 0.1830 - val_accuracy: 0.9239\n",
            "Epoch 21/50\n",
            "351/351 [==============================] - 191s 544ms/step - loss: 0.1580 - accuracy: 0.9357 - val_loss: 0.1772 - val_accuracy: 0.9247\n",
            "Epoch 22/50\n",
            "351/351 [==============================] - 192s 548ms/step - loss: 0.1490 - accuracy: 0.9397 - val_loss: 0.2166 - val_accuracy: 0.9111\n",
            "Epoch 23/50\n",
            "351/351 [==============================] - 191s 545ms/step - loss: 0.1485 - accuracy: 0.9415 - val_loss: 0.2281 - val_accuracy: 0.9030\n",
            "Epoch 24/50\n",
            "351/351 [==============================] - 192s 546ms/step - loss: 0.1406 - accuracy: 0.9447 - val_loss: 0.2384 - val_accuracy: 0.8982\n",
            "Epoch 25/50\n",
            "351/351 [==============================] - 191s 545ms/step - loss: 0.1389 - accuracy: 0.9469 - val_loss: 0.2671 - val_accuracy: 0.8790\n",
            "Epoch 26/50\n",
            "351/351 [==============================] - 191s 545ms/step - loss: 0.1445 - accuracy: 0.9425 - val_loss: 0.2994 - val_accuracy: 0.8910\n",
            "Epoch 27/50\n",
            "351/351 [==============================] - 190s 542ms/step - loss: 0.1273 - accuracy: 0.9486 - val_loss: 0.2950 - val_accuracy: 0.8862\n",
            "Epoch 28/50\n",
            "351/351 [==============================] - 191s 543ms/step - loss: 0.1181 - accuracy: 0.9524 - val_loss: 0.2827 - val_accuracy: 0.8886\n",
            "Epoch 29/50\n",
            "351/351 [==============================] - 191s 543ms/step - loss: 0.1335 - accuracy: 0.9461 - val_loss: 0.3575 - val_accuracy: 0.8662\n",
            "Epoch 30/50\n",
            "351/351 [==============================] - 192s 547ms/step - loss: 0.1120 - accuracy: 0.9550 - val_loss: 0.4027 - val_accuracy: 0.8494\n",
            "Epoch 31/50\n",
            "351/351 [==============================] - 192s 547ms/step - loss: 0.1220 - accuracy: 0.9524 - val_loss: 0.1475 - val_accuracy: 0.9431\n",
            "Epoch 32/50\n",
            "351/351 [==============================] - 191s 543ms/step - loss: 0.1140 - accuracy: 0.9546 - val_loss: 0.2684 - val_accuracy: 0.8926\n",
            "Epoch 33/50\n",
            "351/351 [==============================] - 190s 541ms/step - loss: 0.1131 - accuracy: 0.9552 - val_loss: 0.1309 - val_accuracy: 0.9415\n",
            "Epoch 34/50\n",
            "351/351 [==============================] - 189s 540ms/step - loss: 0.1198 - accuracy: 0.9508 - val_loss: 0.2413 - val_accuracy: 0.9167\n",
            "Epoch 35/50\n",
            "351/351 [==============================] - 190s 542ms/step - loss: 0.1079 - accuracy: 0.9575 - val_loss: 0.1289 - val_accuracy: 0.9447\n",
            "Epoch 36/50\n",
            "351/351 [==============================] - 192s 546ms/step - loss: 0.1070 - accuracy: 0.9572 - val_loss: 0.1379 - val_accuracy: 0.9447\n",
            "Epoch 37/50\n",
            "351/351 [==============================] - 191s 544ms/step - loss: 0.1102 - accuracy: 0.9564 - val_loss: 0.2462 - val_accuracy: 0.9014\n",
            "Epoch 38/50\n",
            "351/351 [==============================] - 191s 544ms/step - loss: 0.1120 - accuracy: 0.9551 - val_loss: 0.1194 - val_accuracy: 0.9479\n",
            "Epoch 39/50\n",
            "351/351 [==============================] - 190s 541ms/step - loss: 0.1089 - accuracy: 0.9591 - val_loss: 0.1265 - val_accuracy: 0.9511\n",
            "Epoch 40/50\n",
            "351/351 [==============================] - 191s 544ms/step - loss: 0.0920 - accuracy: 0.9642 - val_loss: 0.1638 - val_accuracy: 0.9415\n",
            "Epoch 41/50\n",
            "351/351 [==============================] - 192s 546ms/step - loss: 0.0996 - accuracy: 0.9635 - val_loss: 0.1430 - val_accuracy: 0.9471\n",
            "Epoch 42/50\n",
            "351/351 [==============================] - 193s 550ms/step - loss: 0.1069 - accuracy: 0.9571 - val_loss: 0.1173 - val_accuracy: 0.9519\n",
            "Epoch 43/50\n",
            "351/351 [==============================] - 192s 546ms/step - loss: 0.0972 - accuracy: 0.9622 - val_loss: 0.1043 - val_accuracy: 0.9575\n",
            "Epoch 44/50\n",
            "351/351 [==============================] - 191s 544ms/step - loss: 0.0876 - accuracy: 0.9640 - val_loss: 0.1496 - val_accuracy: 0.9399\n",
            "Epoch 45/50\n",
            "351/351 [==============================] - 191s 543ms/step - loss: 0.0938 - accuracy: 0.9616 - val_loss: 0.1215 - val_accuracy: 0.9495\n",
            "Epoch 46/50\n",
            "351/351 [==============================] - 190s 542ms/step - loss: 0.0814 - accuracy: 0.9693 - val_loss: 0.1348 - val_accuracy: 0.9463\n",
            "Epoch 47/50\n",
            "351/351 [==============================] - 191s 545ms/step - loss: 0.0903 - accuracy: 0.9647 - val_loss: 0.1075 - val_accuracy: 0.9559\n",
            "Epoch 48/50\n",
            "351/351 [==============================] - 190s 542ms/step - loss: 0.0829 - accuracy: 0.9686 - val_loss: 0.1007 - val_accuracy: 0.9631\n",
            "Epoch 49/50\n",
            "351/351 [==============================] - 191s 543ms/step - loss: 0.0835 - accuracy: 0.9687 - val_loss: 0.1086 - val_accuracy: 0.9535\n",
            "Epoch 50/50\n",
            "351/351 [==============================] - 189s 538ms/step - loss: 0.0857 - accuracy: 0.9662 - val_loss: 0.1430 - val_accuracy: 0.9407\n"
          ]
        }
      ]
    },
    {
      "cell_type": "markdown",
      "source": [
        "### Saving the model"
      ],
      "metadata": {
        "id": "3QZsm5XzUC8l"
      }
    },
    {
      "cell_type": "code",
      "source": [
        "from google.colab import drive\n",
        "drive.mount('/content/gdrive')"
      ],
      "metadata": {
        "colab": {
          "base_uri": "https://localhost:8080/"
        },
        "id": "FgOa8QXQ7VRw",
        "outputId": "80234312-d977-4cae-c905-83e4432fd05a"
      },
      "execution_count": null,
      "outputs": [
        {
          "output_type": "stream",
          "name": "stdout",
          "text": [
            "Mounted at /content/gdrive\n"
          ]
        }
      ]
    },
    {
      "cell_type": "code",
      "source": [
        "model.save_weights('/content/gdrive')"
      ],
      "metadata": {
        "id": "H_-0Ond87l1q"
      },
      "execution_count": null,
      "outputs": []
    },
    {
      "cell_type": "code",
      "source": [
        "model.save('final_model.h5')"
      ],
      "metadata": {
        "id": "M6P5Al7F7q-J"
      },
      "execution_count": null,
      "outputs": []
    },
    {
      "cell_type": "code",
      "source": [],
      "metadata": {
        "id": "kkHvzUD_p6zl"
      },
      "execution_count": null,
      "outputs": []
    }
  ]
}